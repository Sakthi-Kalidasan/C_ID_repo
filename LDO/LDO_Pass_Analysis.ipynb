{
 "cells": [
  {
   "cell_type": "code",
   "execution_count": 16,
   "id": "551dfffa",
   "metadata": {},
   "outputs": [],
   "source": [
    "## LDO PMOS pass transistor Analysis\n",
    "\n",
    "import numpy as np\n",
    "import matplotlib.pyplot as plt\n",
    "import pandas as pd\n",
    "from scipy.interpolate import interp1d"
   ]
  },
  {
   "cell_type": "markdown",
   "id": "c4ed6efe",
   "metadata": {},
   "source": [
    "## Assumptions \n",
    "1. Vdd = 1.8V \n",
    "2. Vout_LDO = 1.2V\n",
    "3. W/L unit = 1u/0.18u\n",
    "4. M_scale = 1000"
   ]
  },
  {
   "cell_type": "code",
   "execution_count": null,
   "id": "ec3f0d45",
   "metadata": {},
   "outputs": [],
   "source": [
    "param_master = pd.read_csv(\"ldo_pmos_char.csv\")"
   ]
  },
  {
   "cell_type": "code",
   "execution_count": 18,
   "id": "ac709397",
   "metadata": {},
   "outputs": [],
   "source": [
    "kgm_p = np.abs(param_master['kgmp Y'])\n",
    "kcsg_p = np.abs(param_master['kcgs Y'])\n",
    "kcgd_p = np.abs(param_master['kcgd Y'])\n",
    "kgds_p = np.abs(param_master['kgds Y'])\n",
    "ids = np.abs(param_master['ids Y'])\n",
    "vgp = np.abs(param_master['kgmp X']) "
   ]
  },
  {
   "cell_type": "code",
   "execution_count": 19,
   "id": "19ed2d6d",
   "metadata": {},
   "outputs": [
    {
     "data": {
      "image/png": "[encoded data removed]",
      "text/plain": [
       "<Figure size 800x600 with 1 Axes>"
      ]
     },
     "metadata": {},
     "output_type": "display_data"
    }
   ],
   "source": [
    "# plotting Ids vs Vgp\n",
    "plt.figure(figsize=(8, 6))\n",
    "plt.plot(vgp, ids * 1e3, marker='o')\n",
    "plt.xlabel('Vgp (V)')\n",
    "plt.ylabel('Ids (mA)')\n",
    "plt.yscale('log')\n",
    "plt.title('Vgp vs Ids')\n",
    "plt.grid(True)\n",
    "plt.show()"
   ]
  },
  {
   "cell_type": "code",
   "execution_count": 23,
   "id": "da3de5f6",
   "metadata": {},
   "outputs": [
    {
     "name": "stdout",
     "output_type": "stream",
     "text": [
      "Vgp for I_max (10.00 mA): 1.115024 V\n",
      "Vgp for I_min (100.00 uA): 1.397810 V\n",
      "Vgp Swing required: 0.282786 V\n",
      "Vgp Common Mode Voltage: 1.256417 V\n"
     ]
    }
   ],
   "source": [
    "\n",
    "## find the voltage swing requirements based on max and min load current\n",
    "I_max = 10e-3  # 10mA\n",
    "I_min = 100e-6   # 100uA\n",
    "\n",
    "# Interpolate to find the Vgp values corresponding to I_max and I_min\n",
    "\n",
    "# ids and vgp are both increasing, so sort them for interpolation\n",
    "sorted_idx = np.argsort(ids)\n",
    "ids_sorted = ids.values[sorted_idx]\n",
    "vgp_sorted = vgp.values[sorted_idx]\n",
    "\n",
    "interp_func = interp1d(ids_sorted, vgp_sorted, kind='linear', fill_value='extrapolate')\n",
    "\n",
    "vgp_I_max = float(interp_func(I_max))\n",
    "vgp_I_min = float(interp_func(I_min))\n",
    "\n",
    "print(f\"Vgp for I_max ({I_max*1e3:.2f} mA): {vgp_I_max:.6f} V\")\n",
    "print(f\"Vgp for I_min ({I_min*1e6:.2f} uA): {vgp_I_min:.6f} V\")\n",
    "\n",
    "Vgp_swing = np.abs(vgp_I_max - vgp_I_min)\n",
    "print(f\"Vgp Swing required: {Vgp_swing:.6f} V\")\n",
    "\n",
    "V_gp_cm = (vgp_I_max + vgp_I_min) / 2\n",
    "print(f\"Vgp Common Mode Voltage: {V_gp_cm:.6f} V\")"
   ]
  },
  {
   "cell_type": "code",
   "execution_count": 33,
   "id": "5bf26304",
   "metadata": {},
   "outputs": [
    {
     "name": "stdout",
     "output_type": "stream",
     "text": [
      "kcgd_p at Vgp for I_max (1.115024 V): 430.919 fF\n",
      "kcgs_p at Vgp for I_max (1.115024 V): 1052.641 fF\n",
      "kcds_p at Vgp for I_max (1.115024 V): 0.886 fF\n",
      "gm_p at Vgp for I_max (1.115024 V): 89.227 mS\n",
      "gds_p at Vgp for I_max (1.115024 V): 3.343 mS\n",
      "kcgd_p at Vgp for I_min (1.397810 V): 379.285 fF\n",
      "kcgs_p at Vgp for I_min (1.397810 V): 491.892 fF\n",
      "kcds_p at Vgp for I_min (1.397810 V): 0.076 fF\n",
      "gm_p at Vgp for I_min (1.397810 V): 2.428 mS\n",
      "gds_p at Vgp for I_min (1.397810 V): 0.054 mS\n"
     ]
    }
   ],
   "source": [
    "## Capacitance estimations at I_max \n",
    "\n",
    "C_Load = 100e-12  # 100pF\n",
    "\n",
    "## Estimating cap values from kcgd\n",
    "\n",
    "# Interpolate kcgd_p at vgp_I_max\n",
    "kcgd_interp = interp1d(vgp, kcgd_p, kind='linear', fill_value='extrapolate')\n",
    "cgd_p_max = float(kcgd_interp(vgp_I_max))*I_max  # in Farads\n",
    "print(f\"kcgd_p at Vgp for I_max ({vgp_I_max:.6f} V): {cgd_p_max*1e15:.3f} fF\")\n",
    "\n",
    "# Interpolate kcgs_p at vgp_I_max\n",
    "kcgs_interp = interp1d(vgp, kcsg_p, kind='linear', fill_value='extrapolate')\n",
    "cgs_p_max = float(kcgs_interp(vgp_I_max)) * I_max  # in Farads\n",
    "print(f\"kcgs_p at Vgp for I_max ({vgp_I_max:.6f} V): {cgs_p_max*1e15:.3f} fF\")\n",
    "\n",
    "# Interpolate kcds_p at vgp_I_max\n",
    "kcds_p = np.abs(param_master['kcds Y'])\n",
    "kcds_interp = interp1d(vgp, kcds_p, kind='linear', fill_value='extrapolate')\n",
    "cds_p_max = float(kcds_interp(vgp_I_max)) * I_max  # in Farads\n",
    "print(f\"kcds_p at Vgp for I_max ({vgp_I_max:.6f} V): {cds_p_max*1e15:.3f} fF\")\n",
    "\n",
    "# Interpolte kgm_p at vgp_I_max\n",
    "kgm_interp = interp1d(vgp, kgm_p, kind='linear', fill_value='extrapolate')\n",
    "gm_p_max = float(kgm_interp(vgp_I_max)) * I_max  # in Siemens\n",
    "print(f\"gm_p at Vgp for I_max ({vgp_I_max:.6f} V): {gm_p_max*1e3:.3f} mS\")\n",
    "\n",
    "# Interpolte kgds_p at vgp_I_max\n",
    "kgds_interp = interp1d(vgp, kgds_p, kind='linear', fill_value='extrapolate')\n",
    "gds_p_max = float(kgds_interp(vgp_I_max)) * I_max  # in Siemens\n",
    "print(f\"gds_p at Vgp for I_max ({vgp_I_max:.6f} V): {gds_p_max*1e3:.3f} mS\")\n",
    "\n",
    "\n",
    "# Interpolate kcgd_p at vgp_I_min\n",
    "cgd_p_min = float(kcgd_interp(vgp_I_min)) * I_min  # in Farads\n",
    "print(f\"kcgd_p at Vgp for I_min ({vgp_I_min:.6f} V): {cgd_p_min*1e15:.3f} fF\")\n",
    "\n",
    "# Interpolate kcgs_p at vgp_I_min\n",
    "cgs_p_min = float(kcgs_interp(vgp_I_min)) * I_min  # in Farads\n",
    "print(f\"kcgs_p at Vgp for I_min ({vgp_I_min:.6f} V): {cgs_p_min*1e15:.3f} fF\")\n",
    "\n",
    "# Interpolate kcds_p at vgp_I_min\n",
    "cds_p_min = float(kcds_interp(vgp_I_min)) * I_min  # in Farads\n",
    "print(f\"kcds_p at Vgp for I_min ({vgp_I_min:.6f} V): {cds_p_min*1e15:.3f} fF\")\n",
    "\n",
    "# Interpolte kgm_p at vgp_I_min\n",
    "gm_p_min = float(kgm_interp(vgp_I_min)) * I_min  # in Siemens\n",
    "print(f\"gm_p at Vgp for I_min ({vgp_I_min:.6f} V): {gm_p_min*1e3:.3f} mS\")\n",
    "# Interpolte kgds_p at vgp_I_min\n",
    "gds_p_min = float(kgds_interp(vgp_I_min)) * I_min\n",
    "print(f\"gds_p at Vgp for I_min ({vgp_I_min:.6f} V): {gds_p_min*1e3:.3f} mS\")  # in Siemens\n",
    "\n"
   ]
  },
  {
   "cell_type": "code",
   "execution_count": null,
   "id": "ad88eb0a",
   "metadata": {},
   "outputs": [
    {
     "name": "stdout",
     "output_type": "stream",
     "text": [
      "Effective Load Capacitance: 100.448 pF\n",
      "Effective Input Capacitance including Miller effect: 12.987 pF\n"
     ]
    }
   ],
   "source": [
    "## Cap estimate \n",
    "\n",
    "Av = gm_p_max/gds_p_max\n",
    "\n",
    "C_load_eff = C_Load + cgd_p_max*(1 + (1/Av)) + cds_p_max\n",
    "print(f\"Effective Load Capacitance: {C_load_eff*1e12:.3f} pF\")\n",
    "\n",
    "## Effective load capacitance including the Miller effect for the error amplifier\n",
    "C_in = cgs_p_max + cgd_p_max*(1+Av)\n",
    "print(f\"Effective Input Capacitance including Miller effect: {C_in*1e12:.3f} pF\")\n"
   ]
  },
  {
   "cell_type": "code",
   "execution_count": 43,
   "id": "c6d7b1b6",
   "metadata": {},
   "outputs": [
    {
     "name": "stdout",
     "output_type": "stream",
     "text": [
      "Effective Load Capacitance at I_min: 100.388 pF\n",
      "Effective Input Capacitance at I_min including Miller effect: 18.071 pF\n"
     ]
    }
   ],
   "source": [
    "# Capacitance and transconductance/gds estimates at I_min\n",
    "\n",
    "Av_min = gm_p_min / gds_p_min\n",
    "\n",
    "C_load_eff_min = C_Load + cgd_p_min * (1 + (1 / Av_min)) + cds_p_min\n",
    "print(f\"Effective Load Capacitance at I_min: {C_load_eff_min*1e12:.3f} pF\")\n",
    "\n",
    "C_in_min = cgs_p_min + cgd_p_min * (1 + Av_min)\n",
    "print(f\"Effective Input Capacitance at I_min including Miller effect: {C_in_min*1e12:.3f} pF\")"
   ]
  },
  {
   "cell_type": "code",
   "execution_count": 42,
   "id": "aa13b5c4",
   "metadata": {},
   "outputs": [
    {
     "name": "stdout",
     "output_type": "stream",
     "text": [
      "Effective max Resistance (Reff) for bandwidth target 2000000.0 Hz: 792.23 Ohms\n",
      "Rds of the pass transistor at I_max: 299.18 Ohms\n",
      "Load Resistance (R_L) for 1% current overhead at I_max: 11150.24 Ohms\n",
      "Effective Load Resistance (R_L_eff) considering Rds: 291.36 Ohms\n",
      "Bandwidth (f_bw) considering Rds: 5.44 MHz\n"
     ]
    }
   ],
   "source": [
    "## Bandwidth target and Reff estimate\n",
    "\n",
    "BW_target = 2e6  # 2MHz\n",
    "\n",
    "Reff_max = 1 / (2 * np.pi * BW_target * C_load_eff)\n",
    "print(f\"Effective max Resistance (Reff) for bandwidth target {BW_target:.1f} Hz: {Reff_max:.2f} Ohms\")\n",
    "\n",
    "rds_p = 1 / gds_p_max\n",
    "print(f\"Rds of the pass transistor at I_max: {rds_p:.2f} Ohms\")\n",
    "\n",
    "## R_L estimate based on <1% current overhead due to R_L\n",
    "\n",
    "I_R_L = 0.01*I_max  # 1% of I_max\n",
    "R_L = vgp_I_max / I_R_L\n",
    "print(f\"Load Resistance (R_L) for 1% current overhead at I_max: {R_L:.2f} Ohms\")\n",
    "\n",
    "R_L_eff = 1 / (1/R_L + 1/rds_p)\n",
    "print(f\"Effective Load Resistance (R_L_eff) considering Rds: {R_L_eff:.2f} Ohms\")\n",
    "\n",
    "f_bw = 1 / (2 * np.pi * R_L_eff * C_load_eff)\n",
    "print(f\"Bandwidth (f_bw) considering Rds: {f_bw/1e6:.2f} MHz\")"
   ]
  },
  {
   "cell_type": "code",
   "execution_count": 44,
   "id": "39b69591",
   "metadata": {},
   "outputs": [
    {
     "name": "stdout",
     "output_type": "stream",
     "text": [
      "R_L1 to drop 0.30 V at I_max: 2787.56 Ohms\n",
      "R_L2 to drop 0.90 V at I_max: 8362.68 Ohms\n"
     ]
    }
   ],
   "source": [
    "## Assuming Vin_DC for the error amplifier is 0.9V\n",
    "Vin_DC_amp = 0.9\n",
    "Vout_LDO = 1.2\n",
    "R_L1 = ((Vout_LDO - Vin_DC_amp) / Vout_LDO)*R_L\n",
    "print(f\"R_L1 to drop {(Vout_LDO - Vin_DC_amp):.2f} V at I_max: {R_L1:.2f} Ohms\")\n",
    "R_L2 = R_L - R_L1\n",
    "print(f\"R_L2 to drop {Vin_DC_amp:.2f} V at I_max: {R_L2:.2f} Ohms\")"
   ]
  }
 ],
 "metadata": {
  "kernelspec": {
   "display_name": "Python 3",
   "language": "python",
   "name": "python3"
  },
  "language_info": {
   "codemirror_mode": {
    "name": "ipython",
    "version": 3
   },
   "file_extension": ".py",
   "mimetype": "text/x-python",
   "name": "python",
   "nbconvert_exporter": "python",
   "pygments_lexer": "ipython3",
   "version": "3.11.9"
  }
 },
 "nbformat": 4,
 "nbformat_minor": 5
}
