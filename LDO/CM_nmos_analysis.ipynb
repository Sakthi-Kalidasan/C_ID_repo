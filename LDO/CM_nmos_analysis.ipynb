{
 "cells": [
  {
   "cell_type": "code",
   "execution_count": 150,
   "id": "448cc16a",
   "metadata": {},
   "outputs": [],
   "source": [
    "## NMOS Current Mirror Analysis for second stage of error amplifier\n",
    "\n",
    "import numpy as np\n",
    "import matplotlib.pyplot as plt\n",
    "import pandas as pd\n",
    "from scipy.interpolate import interp1d"
   ]
  },
  {
   "cell_type": "code",
   "execution_count": 151,
   "id": "5c0501b0",
   "metadata": {},
   "outputs": [],
   "source": [
    "param_master = pd.read_csv(\"current_mirror_nmos_char_master_vd_1_25.csv\")"
   ]
  },
  {
   "cell_type": "markdown",
   "id": "4025862b",
   "metadata": {},
   "source": [
    "## Assumptions\n",
    "1. 1/8 CM NMOS ratio for current efficiency"
   ]
  },
  {
   "cell_type": "code",
   "execution_count": 152,
   "id": "154db8b1",
   "metadata": {},
   "outputs": [],
   "source": [
    "kgm_n = np.abs(param_master['kgmn Y'])\n",
    "kgds_n = np.abs(param_master['kgds_n Y'])\n",
    "kcgd_n = np.abs(param_master['kcgd_n Y'])\n",
    "kcgs_n = np.abs(param_master['kcgs_n Y'])\n",
    "ids = np.abs(param_master['ids Y'])\n",
    "I_in = np.abs(param_master['ids X'])"
   ]
  },
  {
   "cell_type": "code",
   "execution_count": 153,
   "id": "3e1d85b7",
   "metadata": {},
   "outputs": [
    {
     "data": {
      "image/png": "[encoded data removed]",
      "text/plain": [
       "<Figure size 800x500 with 1 Axes>"
      ]
     },
     "metadata": {},
     "output_type": "display_data"
    }
   ],
   "source": [
    "\n",
    "# Calculate the slope in log-log scale (d(ids)/d(I_in) in log space)\n",
    "log_I_in = np.log10(I_in)\n",
    "log_ids = np.log10(ids)\n",
    "slope, intercept = np.polyfit(log_I_in, log_ids, 1)\n",
    "\n",
    "# Annotate the slope on the plot\n",
    "plt.figure(figsize=(8, 5))\n",
    "plt.plot(I_in, ids, marker='o')\n",
    "plt.yscale('log')\n",
    "plt.xscale('log')\n",
    "plt.xlabel('I_in (A)')\n",
    "plt.ylabel('ids (A)')\n",
    "plt.title('I_in vs ids')\n",
    "plt.grid(True)\n",
    "plt.annotate(f'Slope = {slope:.2f}', xy=(I_in.iloc[-20], ids.iloc[-20]), \n",
    "             xytext=(I_in.iloc[-20], ids.iloc[-20]*2),\n",
    "             arrowprops=dict(facecolor='black', arrowstyle='->'),\n",
    "             fontsize=12, color='red')\n",
    "plt.show()"
   ]
  },
  {
   "cell_type": "code",
   "execution_count": 154,
   "id": "a6dfb45f",
   "metadata": {},
   "outputs": [
    {
     "name": "stdout",
     "output_type": "stream",
     "text": [
      "I_in for I_target = 70.00 uA: 6.24 uA\n"
     ]
    }
   ],
   "source": [
    "## Find NMOS characteristics for I_target = 70uA\n",
    "I_target = 70e-6\n",
    "interp_ids = interp1d(ids, I_in, kind='linear', fill_value='extrapolate')\n",
    "I_in_target = float(interp_ids(I_target))\n",
    "print(f\"I_in for I_target = {I_target*1e6:.2f} uA: {I_in_target*1e6:.2f} uA\")"
   ]
  },
  {
   "cell_type": "code",
   "execution_count": 155,
   "id": "e85847ff",
   "metadata": {},
   "outputs": [
    {
     "name": "stdout",
     "output_type": "stream",
     "text": [
      "At I_in = 6.24e-06 A (for I_target = 7.00e-05 A):\n",
      "  Cgs = 1.180e-14 F\n",
      "  Cgd = 5.150e-15 F\n",
      "  gds = 2.631e-05 S\n"
     ]
    }
   ],
   "source": [
    "# Find the index in I_in closest to I_in_target\n",
    "idx = (np.abs(I_in - I_in_target)).idxmin()\n",
    "\n",
    "# Extract the corresponding values\n",
    "cgs_at_target = kcgs_n.iloc[idx]*ids.iloc[idx]\n",
    "cgd_at_target = kcgd_n.iloc[idx]*ids.iloc[idx]\n",
    "gds_at_target = kgds_n.iloc[idx]*ids.iloc[idx]\n",
    "\n",
    "print(f\"At I_in = {I_in_target:.2e} A (for I_target = {I_target:.2e} A):\")\n",
    "print(f\"  Cgs = {cgs_at_target:.3e} F\")\n",
    "print(f\"  Cgd = {cgd_at_target:.3e} F\")\n",
    "print(f\"  gds = {gds_at_target:.3e} S\")"
   ]
  },
  {
   "cell_type": "code",
   "execution_count": 156,
   "id": "6c1113bf",
   "metadata": {},
   "outputs": [
    {
     "name": "stdout",
     "output_type": "stream",
     "text": [
      "Required gds for Av = 10: 1.260e-04 S\n"
     ]
    }
   ],
   "source": [
    "## From common source amplifier analysis gds requirement for Gain\n",
    "\n",
    "Av_target = 10\n",
    "gm_target = 1.26e-3\n",
    "gds_nmos_amp = 0.025e-3\n",
    "\n",
    "gds_target = gm_target / Av_target\n",
    "\n",
    "print(f\"Required gds for Av = {Av_target}: {gds_target:.3e} S\")"
   ]
  },
  {
   "cell_type": "code",
   "execution_count": 157,
   "id": "7b1152b7",
   "metadata": {},
   "outputs": [
    {
     "name": "stdout",
     "output_type": "stream",
     "text": [
      "gds required from current mirror NMOS: 1.010e-04 S\n",
      "Scaling factor for current mirror NMOS: 3.84\n"
     ]
    }
   ],
   "source": [
    "## Extracting scaling factor for current mirror NMOS\n",
    "\n",
    "gds_target_cm = gds_target - gds_nmos_amp\n",
    "print(f\"gds required from current mirror NMOS: {gds_target_cm:.3e} S\")\n",
    "\n",
    "scaling_factor_nmos = gds_target_cm/gds_at_target\n",
    "print(f\"Scaling factor for current mirror NMOS: {scaling_factor_nmos:.2f}\")"
   ]
  },
  {
   "cell_type": "code",
   "execution_count": 158,
   "id": "4e28fc0e",
   "metadata": {},
   "outputs": [
    {
     "name": "stdout",
     "output_type": "stream",
     "text": [
      "Scaled Cgd: 19.77 fF, Scaled Cgs: 45.29 fF\n"
     ]
    }
   ],
   "source": [
    "## Estimating the parasitic capacitances at I_target = 70uA\n",
    "\n",
    "cgd_scaled = cgd_at_target * scaling_factor_nmos\n",
    "cgs_scaled = cgs_at_target * scaling_factor_nmos\n",
    "print(f\"Scaled Cgd: {cgd_scaled*1e15:.2f} fF, Scaled Cgs: {cgs_scaled*1e15:.2f} fF\")"
   ]
  },
  {
   "cell_type": "code",
   "execution_count": 159,
   "id": "29458de7",
   "metadata": {},
   "outputs": [
    {
     "name": "stdout",
     "output_type": "stream",
     "text": [
      "Required gds for Av = 10: 1.260e-04 S\n",
      "gds_p required: 8.750e-05 S, gds_n required: 3.850e-05 S\n",
      "gm/gds for NMOS in current mirror: 32.73\n"
     ]
    }
   ],
   "source": [
    "## Reestimating gds requirement for Gain from V_out_DC stand point\n",
    "\n",
    "gm_target = 18*70e-6\n",
    "gds_target = gm_target / Av_target\n",
    "\n",
    "print(f\"Required gds for Av = {Av_target}: {gds_target:.3e} S\")\n",
    "\n",
    "Vout_DC = 1.25\n",
    "Vdd = 1.8\n",
    "\n",
    "gds_p = (Vout_DC/Vdd)*gds_target\n",
    "gds_n = ((Vdd - Vout_DC)/Vdd)*gds_target\n",
    "\n",
    "print(f\"gds_p required: {gds_p:.3e} S, gds_n required: {gds_n:.3e} S\")\n",
    "\n",
    "gm_ro_nmos = gm_target/gds_n\n",
    "print(f\"gm/gds for NMOS in current mirror: {gm_ro_nmos:.2f}\")\n"
   ]
  },
  {
   "cell_type": "code",
   "execution_count": 160,
   "id": "f15d3588",
   "metadata": {},
   "outputs": [
    {
     "name": "stdout",
     "output_type": "stream",
     "text": [
      "I_in for I_target = 42.40 uA: 3.63 uA\n"
     ]
    }
   ],
   "source": [
    "## Estimating current mirror parameters for error amplifier stage 1\n",
    "\n",
    "I_target = 10.6e-6 * 2 * 2 #diff amp stage 1 current mirrored to single ended stage\n",
    "interp_ids = interp1d(ids, I_in, kind='linear', fill_value='extrapolate')\n",
    "I_in_target = float(interp_ids(I_target))\n",
    "print(f\"I_in for I_target = {I_target*1e6:.2f} uA: {I_in_target*1e6:.2f} uA\")"
   ]
  },
  {
   "cell_type": "code",
   "execution_count": 161,
   "id": "809a1bfb",
   "metadata": {},
   "outputs": [
    {
     "name": "stdout",
     "output_type": "stream",
     "text": [
      "At I_in = 3.63e-06 A (for I_target = 4.24e-05 A):\n",
      "  Cgs = 1.088e-14 F\n",
      "  Cgd = 5.137e-15 F\n",
      "  gds = 1.782e-05 S\n"
     ]
    }
   ],
   "source": [
    "# Find the index in I_in closest to I_in_target\n",
    "idx = (np.abs(I_in - I_in_target)).idxmin()\n",
    "\n",
    "# Extract the corresponding values\n",
    "cgs_at_target = kcgs_n.iloc[idx]*ids.iloc[idx]\n",
    "cgd_at_target = kcgd_n.iloc[idx]*ids.iloc[idx]\n",
    "gds_at_target = kgds_n.iloc[idx]*ids.iloc[idx]\n",
    "\n",
    "print(f\"At I_in = {I_in_target:.2e} A (for I_target = {I_target:.2e} A):\")\n",
    "print(f\"  Cgs = {cgs_at_target:.3e} F\")\n",
    "print(f\"  Cgd = {cgd_at_target:.3e} F\")\n",
    "print(f\"  gds = {gds_at_target:.3e} S\")"
   ]
  },
  {
   "cell_type": "code",
   "execution_count": 162,
   "id": "d68122f4",
   "metadata": {},
   "outputs": [
    {
     "name": "stdout",
     "output_type": "stream",
     "text": [
      "gds_cm required: 4.138e-06 S\n",
      "Scaling factor for current mirror NMOS: 0.23\n"
     ]
    }
   ],
   "source": [
    "## Estimating gds_cm requirements from diff amp to single ended amp analysis\n",
    "Vout_DC = 1.3\n",
    "Vdd = 1.8\n",
    "\n",
    "gds_n = 0.006e-3\n",
    "gds_p = 0.004e-3\n",
    "\n",
    "r_pmos = 1/(gds_p)\n",
    "r_nmos = 1/(gds_n)\n",
    "\n",
    "r_x = (Vout_DC / (Vdd - Vout_DC)) * r_pmos\n",
    "r_cm_nmos_diff = r_x - r_nmos\n",
    "r_cm_nmos = r_cm_nmos_diff / 2 # two current mirror NMOS in parallel\n",
    "gds_cm = 1/r_cm_nmos\n",
    "\n",
    "print(f\"gds_cm required: {gds_cm:.3e} S\")   \n",
    "\n",
    "M_scaling_factor_nmos = gds_cm/gds_at_target\n",
    "print(f\"Scaling factor for current mirror NMOS: {M_scaling_factor_nmos:.2f}\")"
   ]
  },
  {
   "cell_type": "code",
   "execution_count": 163,
   "id": "37081c40",
   "metadata": {},
   "outputs": [
    {
     "name": "stdout",
     "output_type": "stream",
     "text": [
      "Resized PMOS to meet I_target = 42.40 uA: r_pmos = 3.07e+04 Ohm, gds_p = 3.262e-05 S\n",
      "Scaling factor for PMOS load for amplifier: 8.15\n"
     ]
    }
   ],
   "source": [
    "## Resizing pmos for meeting current target\n",
    "\n",
    "ids_target = I_target\n",
    "r_pmos_target = Vout_DC / ids_target\n",
    "gds_p_target = 1/r_pmos_target\n",
    "print(f\"Resized PMOS to meet I_target = {I_target*1e6:.2f} uA: r_pmos = {r_pmos_target:.2e} Ohm, gds_p = {gds_p_target:.3e} S\")\n",
    "\n",
    "M_scaled_pmos = gds_p_target/gds_p\n",
    "print(f\"Scaling factor for PMOS load for amplifier: {M_scaled_pmos:.2f}\")"
   ]
  },
  {
   "cell_type": "code",
   "execution_count": 164,
   "id": "b6a86700",
   "metadata": {},
   "outputs": [],
   "source": [
    "## Remeasuring the current mirror NMOS parameters with VD = 0.5V for better estimate for Diff to Single Ended stage\n",
    "param_master = pd.read_csv(\"current_mirror_nmos_char_master_vd_0_5.csv\")"
   ]
  },
  {
   "cell_type": "code",
   "execution_count": 165,
   "id": "d4df362c",
   "metadata": {},
   "outputs": [],
   "source": [
    "kgm_n = np.abs(param_master['kgmn Y'])\n",
    "kgds_n = np.abs(param_master['kgds_n Y'])\n",
    "kcgd_n = np.abs(param_master['kcgd_n Y'])\n",
    "kcgs_n = np.abs(param_master['kcgs_n Y'])\n",
    "ids = np.abs(param_master['ids Y'])\n",
    "I_in = np.abs(param_master['ids X'])"
   ]
  },
  {
   "cell_type": "code",
   "execution_count": 166,
   "id": "9f140239",
   "metadata": {},
   "outputs": [
    {
     "name": "stdout",
     "output_type": "stream",
     "text": [
      "I_in for I_target = 42.40 uA: 5.29 uA\n"
     ]
    }
   ],
   "source": [
    "## Estimating current mirror parameters for error amplifier stage 1\n",
    "\n",
    "I_target = 10.6e-6 * 2 * 2 #diff amp stage 1 current mirrored to single ended stage\n",
    "interp_ids = interp1d(ids, I_in, kind='linear', fill_value='extrapolate')\n",
    "I_in_target = float(interp_ids(I_target))\n",
    "print(f\"I_in for I_target = {I_target*1e6:.2f} uA: {I_in_target*1e6:.2f} uA\")"
   ]
  },
  {
   "cell_type": "code",
   "execution_count": 167,
   "id": "deff9a49",
   "metadata": {},
   "outputs": [
    {
     "name": "stdout",
     "output_type": "stream",
     "text": [
      "At I_in = 5.29e-06 A (for I_target = 4.24e-05 A):\n",
      "  Cgs = 1.122e-14 F\n",
      "  Cgd = 6.086e-15 F\n",
      "  gds = 2.594e-05 S\n"
     ]
    }
   ],
   "source": [
    "# Find the index in I_in closest to I_in_target\n",
    "idx = (np.abs(I_in - I_in_target)).idxmin()\n",
    "\n",
    "# Extract the corresponding values\n",
    "cgs_at_target = kcgs_n.iloc[idx]*ids.iloc[idx]\n",
    "cgd_at_target = kcgd_n.iloc[idx]*ids.iloc[idx]\n",
    "gds_at_target = kgds_n.iloc[idx]*ids.iloc[idx]\n",
    "\n",
    "print(f\"At I_in = {I_in_target:.2e} A (for I_target = {I_target:.2e} A):\")\n",
    "print(f\"  Cgs = {cgs_at_target:.3e} F\")\n",
    "print(f\"  Cgd = {cgd_at_target:.3e} F\")\n",
    "print(f\"  gds = {gds_at_target:.3e} S\")"
   ]
  },
  {
   "cell_type": "code",
   "execution_count": 168,
   "id": "9e79277c",
   "metadata": {},
   "outputs": [
    {
     "name": "stdout",
     "output_type": "stream",
     "text": [
      "gds_cm required: 4.138e-06 S\n",
      "Scaling factor for current mirror NMOS: 0.16\n"
     ]
    }
   ],
   "source": [
    "## Estimating gds_cm requirements from diff amp to single ended amp analysis\n",
    "Vout_DC = 1.3\n",
    "Vdd = 1.8\n",
    "\n",
    "gds_n = 0.006e-3\n",
    "gds_p = 0.004e-3\n",
    "\n",
    "r_pmos = 1/(gds_p)\n",
    "r_nmos = 1/(gds_n)\n",
    "\n",
    "r_x = (Vout_DC / (Vdd - Vout_DC)) * r_pmos\n",
    "r_cm_nmos_diff = r_x - r_nmos\n",
    "r_cm_nmos = r_cm_nmos_diff / 2 # two current mirror NMOS in parallel\n",
    "gds_cm = 1/r_cm_nmos\n",
    "\n",
    "print(f\"gds_cm required: {gds_cm:.3e} S\")   \n",
    "\n",
    "M_scaling_factor_nmos = gds_cm/gds_at_target\n",
    "print(f\"Scaling factor for current mirror NMOS: {M_scaling_factor_nmos:.2f}\")"
   ]
  },
  {
   "cell_type": "code",
   "execution_count": 171,
   "id": "097a501d",
   "metadata": {},
   "outputs": [
    {
     "name": "stdout",
     "output_type": "stream",
     "text": [
      "Resized PMOS to meet I_target = 42.40 uA: r_pmos = 6.13e+04 Ohm, gds_p = 1.631e-05 S\n",
      "Scaling factor for PMOS load for amplifier: 4.08\n"
     ]
    }
   ],
   "source": [
    "## Resizing pmos for meeting current target\n",
    "\n",
    "ids_target = I_target*0.5\n",
    "r_pmos_target = Vout_DC / ids_target\n",
    "gds_p_target = 1/r_pmos_target\n",
    "print(f\"Resized PMOS to meet I_target = {I_target*1e6:.2f} uA: r_pmos = {r_pmos_target:.2e} Ohm, gds_p = {gds_p_target:.3e} S\")\n",
    "\n",
    "M_scaled_pmos = gds_p_target/gds_p\n",
    "print(f\"Scaling factor for PMOS load for amplifier: {M_scaled_pmos:.2f}\")"
   ]
  }
 ],
 "metadata": {
  "kernelspec": {
   "display_name": "Python 3",
   "language": "python",
   "name": "python3"
  },
  "language_info": {
   "codemirror_mode": {
    "name": "ipython",
    "version": 3
   },
   "file_extension": ".py",
   "mimetype": "text/x-python",
   "name": "python",
   "nbconvert_exporter": "python",
   "pygments_lexer": "ipython3",
   "version": "3.11.9"
  }
 },
 "nbformat": 4,
 "nbformat_minor": 5
}
