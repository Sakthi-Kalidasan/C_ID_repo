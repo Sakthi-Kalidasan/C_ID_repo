{
 "cells": [
  {
   "cell_type": "code",
   "execution_count": 42,
   "id": "448cc16a",
   "metadata": {},
   "outputs": [],
   "source": [
    "## NMOS Current Mirror Analysis for second stage of error amplifier\n",
    "\n",
    "import numpy as np\n",
    "import matplotlib.pyplot as plt\n",
    "import pandas as pd\n",
    "from scipy.interpolate import interp1d"
   ]
  },
  {
   "cell_type": "code",
   "execution_count": 43,
   "id": "5c0501b0",
   "metadata": {},
   "outputs": [],
   "source": [
    "param_master = pd.read_csv(\"current_mirror_nmos_char_master.csv\")"
   ]
  },
  {
   "cell_type": "markdown",
   "id": "4025862b",
   "metadata": {},
   "source": [
    "## Assumptions\n",
    "1. 1/8 CM NMOS ratio for current efficiency"
   ]
  },
  {
   "cell_type": "code",
   "execution_count": 44,
   "id": "154db8b1",
   "metadata": {},
   "outputs": [],
   "source": [
    "kgm_n = np.abs(param_master['kgmn Y'])\n",
    "kgds_n = np.abs(param_master['kgds_n Y'])\n",
    "kcgd_n = np.abs(param_master['kcgd_n Y'])\n",
    "kcgs_n = np.abs(param_master['kcgs_n Y'])\n",
    "ids = np.abs(param_master['ids Y'])\n",
    "I_in = np.abs(param_master['ids X'])"
   ]
  },
  {
   "cell_type": "code",
   "execution_count": 45,
   "id": "3e1d85b7",
   "metadata": {},
   "outputs": [
    {
     "data": {
      "image/png": "[encoded data removed]",
      "text/plain": [
       "<Figure size 800x500 with 1 Axes>"
      ]
     },
     "metadata": {},
     "output_type": "display_data"
    }
   ],
   "source": [
    "\n",
    "# Calculate the slope in log-log scale (d(ids)/d(I_in) in log space)\n",
    "log_I_in = np.log10(I_in)\n",
    "log_ids = np.log10(ids)\n",
    "slope, intercept = np.polyfit(log_I_in, log_ids, 1)\n",
    "\n",
    "# Annotate the slope on the plot\n",
    "plt.figure(figsize=(8, 5))\n",
    "plt.plot(I_in, ids, marker='o')\n",
    "plt.yscale('log')\n",
    "plt.xscale('log')\n",
    "plt.xlabel('I_in (A)')\n",
    "plt.ylabel('ids (A)')\n",
    "plt.title('I_in vs ids')\n",
    "plt.grid(True)\n",
    "plt.annotate(f'Slope = {slope:.2f}', xy=(I_in.iloc[-20], ids.iloc[-20]), \n",
    "             xytext=(I_in.iloc[-20], ids.iloc[-20]*2),\n",
    "             arrowprops=dict(facecolor='black', arrowstyle='->'),\n",
    "             fontsize=12, color='red')\n",
    "plt.show()"
   ]
  },
  {
   "cell_type": "code",
   "execution_count": 46,
   "id": "a6dfb45f",
   "metadata": {},
   "outputs": [
    {
     "name": "stdout",
     "output_type": "stream",
     "text": [
      "I_in for I_target = 70.00 uA: 6.65 uA\n"
     ]
    }
   ],
   "source": [
    "## Find NMOS characteristics for I_target = 70uA\n",
    "I_target = 70e-6\n",
    "interp_ids = interp1d(ids, I_in, kind='linear', fill_value='extrapolate')\n",
    "I_in_target = float(interp_ids(I_target))\n",
    "print(f\"I_in for I_target = {I_target*1e6:.2f} uA: {I_in_target*1e6:.2f} uA\")"
   ]
  },
  {
   "cell_type": "code",
   "execution_count": 47,
   "id": "e85847ff",
   "metadata": {},
   "outputs": [
    {
     "name": "stdout",
     "output_type": "stream",
     "text": [
      "At I_in = 6.65e-06 A (for I_target = 7.00e-05 A):\n",
      "  Cgs = 1.191e-14 F\n",
      "  Cgd = 5.249e-15 F\n",
      "  gds = 2.812e-05 S\n"
     ]
    }
   ],
   "source": [
    "# Find the index in I_in closest to I_in_target\n",
    "idx = (np.abs(I_in - I_in_target)).idxmin()\n",
    "\n",
    "# Extract the corresponding values\n",
    "cgs_at_target = kcgs_n.iloc[idx]*ids.iloc[idx]\n",
    "cgd_at_target = kcgd_n.iloc[idx]*ids.iloc[idx]\n",
    "gds_at_target = kgds_n.iloc[idx]*ids.iloc[idx]\n",
    "\n",
    "print(f\"At I_in = {I_in_target:.2e} A (for I_target = {I_target:.2e} A):\")\n",
    "print(f\"  Cgs = {cgs_at_target:.3e} F\")\n",
    "print(f\"  Cgd = {cgd_at_target:.3e} F\")\n",
    "print(f\"  gds = {gds_at_target:.3e} S\")"
   ]
  },
  {
   "cell_type": "code",
   "execution_count": 48,
   "id": "6c1113bf",
   "metadata": {},
   "outputs": [
    {
     "name": "stdout",
     "output_type": "stream",
     "text": [
      "Required gds for Av = 15: 8.400e-05 S\n"
     ]
    }
   ],
   "source": [
    "## From common source amplifier analysis gds requirement for Gain\n",
    "\n",
    "Av_target = 15\n",
    "gm_target = 1.26e-3\n",
    "gds_nmos_amp = 0.03e-3\n",
    "\n",
    "gds_target = gm_target / Av_target\n",
    "\n",
    "print(f\"Required gds for Av = {Av_target}: {gds_target:.3e} S\")"
   ]
  },
  {
   "cell_type": "code",
   "execution_count": 49,
   "id": "7b1152b7",
   "metadata": {},
   "outputs": [
    {
     "name": "stdout",
     "output_type": "stream",
     "text": [
      "gds required from current mirror NMOS: 5.400e-05 S\n",
      "Scaling factor for current mirror NMOS: 1.92\n"
     ]
    }
   ],
   "source": [
    "## Extracting scaling factor for current mirror NMOS\n",
    "\n",
    "gds_target_cm = gds_target - gds_nmos_amp\n",
    "print(f\"gds required from current mirror NMOS: {gds_target_cm:.3e} S\")\n",
    "\n",
    "scaling_factor_nmos = gds_target_cm/gds_at_target\n",
    "print(f\"Scaling factor for current mirror NMOS: {scaling_factor_nmos:.2f}\")"
   ]
  },
  {
   "cell_type": "code",
   "execution_count": 50,
   "id": "4e28fc0e",
   "metadata": {},
   "outputs": [
    {
     "name": "stdout",
     "output_type": "stream",
     "text": [
      "Scaled Cgd: 10.08 fF, Scaled Cgs: 22.87 fF\n"
     ]
    }
   ],
   "source": [
    "## Estimating the parasitic capacitances at I_target = 70uA\n",
    "\n",
    "cgd_scaled = cgd_at_target * scaling_factor_nmos\n",
    "cgs_scaled = cgs_at_target * scaling_factor_nmos\n",
    "print(f\"Scaled Cgd: {cgd_scaled*1e15:.2f} fF, Scaled Cgs: {cgs_scaled*1e15:.2f} fF\")"
   ]
  }
 ],
 "metadata": {
  "kernelspec": {
   "display_name": "Python 3",
   "language": "python",
   "name": "python3"
  },
  "language_info": {
   "codemirror_mode": {
    "name": "ipython",
    "version": 3
   },
   "file_extension": ".py",
   "mimetype": "text/x-python",
   "name": "python",
   "nbconvert_exporter": "python",
   "pygments_lexer": "ipython3",
   "version": "3.11.9"
  }
 },
 "nbformat": 4,
 "nbformat_minor": 5
}
