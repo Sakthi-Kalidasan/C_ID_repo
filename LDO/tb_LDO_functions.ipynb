{
 "cells": [
  {
   "cell_type": "code",
   "execution_count": 1,
   "id": "f46a8f0a",
   "metadata": {},
   "outputs": [
    {
     "data": {
      "text/html": [
       "<style>\n",
       "    body {\n",
       "        --vscode-font-family: \"ComicSansMS\"\n",
       "    }\n",
       "</style>\n"
      ],
      "text/plain": [
       "<IPython.core.display.HTML object>"
      ]
     },
     "metadata": {},
     "output_type": "display_data"
    }
   ],
   "source": [
    "%%HTML\n",
    "<style>\n",
    "    body {\n",
    "        --vscode-font-family: \"ComicSansMS\"\n",
    "    }\n",
    "</style>"
   ]
  },
  {
   "cell_type": "code",
   "execution_count": 2,
   "id": "4675b517",
   "metadata": {},
   "outputs": [],
   "source": [
    "import pandas as pd\n",
    "import numpy as np"
   ]
  },
  {
   "cell_type": "markdown",
   "id": "3f1da1ea",
   "metadata": {},
   "source": [
    "## Testing out LDO_functions.py"
   ]
  },
  {
   "cell_type": "code",
   "execution_count": 3,
   "id": "2198e24c",
   "metadata": {},
   "outputs": [],
   "source": [
    "## Calling the function from LDO_functions.py\n",
    "from LDO_functions import estimate_amplifier_stages, estimate_GBW_stages\n",
    "# Test the functions using available variables\n",
    "csv_file = \"sf_nmos_char_vg_1_3.csv\"\n",
    "PSRR_target_dB = -40\n",
    "f_bw = 1e6\n",
    "I_load = 10e-3\n",
    "PM_target = 60\n",
    "C_load = 11.4e-12\n",
    "kgm_max = 25\n",
    "I_budget = (5/100) * I_load  # 5% of I_load"
   ]
  },
  {
   "cell_type": "code",
   "execution_count": 4,
   "id": "b7479058",
   "metadata": {},
   "outputs": [
    {
     "name": "stdout",
     "output_type": "stream",
     "text": [
      "Estimated GBW_stage1: 0.92 GHz\n",
      "Estimated GBW_stage2: 0.35 GHz\n"
     ]
    }
   ],
   "source": [
    "GBW_stage1, GBW_stage2 = estimate_GBW_stages(PSRR_target_dB, f_bw, PM_target, C_load)\n",
    "\n",
    "print(f\"Estimated GBW_stage1: {GBW_stage1*1e-9:.2f} GHz\")\n",
    "print(f\"Estimated GBW_stage2: {GBW_stage2*1e-9:.2f} GHz\")"
   ]
  },
  {
   "cell_type": "code",
   "execution_count": 7,
   "id": "a3255c2a",
   "metadata": {},
   "outputs": [
    {
     "name": "stdout",
     "output_type": "stream",
     "text": [
      "Calculating I_req for stage 1 with C_out 947.78 pF, GBW_stage1 0.92 GHz, kgm_max 25\n",
      "Required gm of the 1st stage of the amplifier for GBW_stage1 0.92 GHz and C_in 947.78 pF: 5501.09 mS\n",
      "Required current of the 1st stage of the amplifier for kgm_max 25 : 220.04 mA\n",
      "Stage 2 required current (I_req_stage2): 0.9925 mA\n",
      "Stage 2 input capacitance (C_in_stage2): 947.78 pF\n",
      "Stage 1 required current (I_req_stage1): 220.0437 mA\n",
      "Total required current (I_req_total): 221.0362 mA\n",
      "Amplifier stages estimation (test):\n",
      "I_req_stage2: 9.9251e-04\n",
      "C_in_stage2: 9.4778e-10\n",
      "I_req_stage1: 2.2004e-01\n",
      "I_req_total: 2.2104e-01\n",
      "details_stage2: {'idx_kgm': 9, 'kgm': np.float64(25.00386507127838), 'kcsg_n': np.float64(3.514438674718297e-07), 'kcgd_n': np.float64(3.017461437348191e-07), 'cgs': np.float64(3.4881190860395424e-10), 'cgd': np.float64(2.994863705182221e-10), 'C_in': np.float64(9.477846496403986e-10)}\n"
     ]
    }
   ],
   "source": [
    "# Estimate amplifier stages using the current test parameters\n",
    "result_test = estimate_amplifier_stages(csv_file, GBW_stage1, GBW_stage2, C_load, kgm_target=25)\n",
    "print(\"Amplifier stages estimation (test):\")\n",
    "for k, v in result_test.items():\n",
    "    if isinstance(v, float) or isinstance(v, np.floating):\n",
    "        print(f\"{k}: {v:.4e}\")\n",
    "    else:\n",
    "        print(f\"{k}: {v}\")"
   ]
  },
  {
   "cell_type": "code",
   "execution_count": null,
   "id": "aa1d8d7e",
   "metadata": {},
   "outputs": [],
   "source": [
    "def estimate_gbw_and_amplifier_stages(PSRR_target_dB, f_bw, PM_target, C_load, csv_file, kgm_target=25):\n",
    "    \"\"\"\n",
    "    Combines GBW estimation and amplifier stage estimation.\n",
    "\n",
    "    Returns:\n",
    "        result: dict containing GBW_stage1, GBW_stage2, and amplifier stage estimation results.\n",
    "    \"\"\"\n",
    "    GBW_stage1, GBW_stage2 = estimate_GBW_stages(PSRR_target_dB, f_bw, PM_target, C_load)\n",
    "    amp_result = estimate_amplifier_stages(csv_file, GBW_stage1, GBW_stage2, C_load, kgm_target=kgm_target)\n",
    "    result = {\n",
    "        \"GBW_stage1\": GBW_stage1,\n",
    "        \"GBW_stage2\": GBW_stage2,\n",
    "        \"amplifier_stages\": amp_result\n",
    "    }\n",
    "    return result"
   ]
  },
  {
   "cell_type": "code",
   "execution_count": 8,
   "id": "36f55497",
   "metadata": {},
   "outputs": [
    {
     "ename": "ImportError",
     "evalue": "cannot import name 'estimate_gbw_and_amplifier_stages' from 'LDO_functions' (c:\\Users\\sakth\\OneDrive\\Documents\\C_ID_repo\\LDO\\LDO_functions.py)",
     "output_type": "error",
     "traceback": [
      "\u001b[31m---------------------------------------------------------------------------\u001b[39m",
      "\u001b[31mImportError\u001b[39m                               Traceback (most recent call last)",
      "\u001b[36mCell\u001b[39m\u001b[36m \u001b[39m\u001b[32mIn[8]\u001b[39m\u001b[32m, line 2\u001b[39m\n\u001b[32m      1\u001b[39m \u001b[38;5;66;03m## Calling the function from LDO_functions.py\u001b[39;00m\n\u001b[32m----> \u001b[39m\u001b[32m2\u001b[39m \u001b[38;5;28;01mfrom\u001b[39;00m\u001b[38;5;250m \u001b[39m\u001b[34;01mLDO_functions\u001b[39;00m\u001b[38;5;250m \u001b[39m\u001b[38;5;28;01mimport\u001b[39;00m estimate_amplifier_stages, estimate_GBW_stages, estimate_gbw_and_amplifier_stages\n\u001b[32m      3\u001b[39m \u001b[38;5;66;03m# Test the functions using available variables\u001b[39;00m\n\u001b[32m      4\u001b[39m csv_file = \u001b[33m\"\u001b[39m\u001b[33msf_nmos_char_vg_1_3.csv\u001b[39m\u001b[33m\"\u001b[39m\n",
      "\u001b[31mImportError\u001b[39m: cannot import name 'estimate_gbw_and_amplifier_stages' from 'LDO_functions' (c:\\Users\\sakth\\OneDrive\\Documents\\C_ID_repo\\LDO\\LDO_functions.py)"
     ]
    }
   ],
   "source": [
    "## Calling the function from LDO_functions.py\n",
    "from LDO_functions import estimate_amplifier_stages, estimate_GBW_stages, estimate_gbw_and_amplifier_stages\n",
    "# Test the functions using available variables\n",
    "csv_file = \"sf_nmos_char_vg_1_3.csv\"\n",
    "PSRR_target_dB = -40\n",
    "f_bw = 1e6\n",
    "I_load = 10e-3\n",
    "PM_target = 60\n",
    "C_load = 11.4e-12\n",
    "kgm_max = 25\n",
    "I_budget = (5/100) * I_load  # 5% of I_load"
   ]
  }
 ],
 "metadata": {
  "kernelspec": {
   "display_name": "Python 3",
   "language": "python",
   "name": "python3"
  },
  "language_info": {
   "codemirror_mode": {
    "name": "ipython",
    "version": 3
   },
   "file_extension": ".py",
   "mimetype": "text/x-python",
   "name": "python",
   "nbconvert_exporter": "python",
   "pygments_lexer": "ipython3",
   "version": "3.11.9"
  }
 },
 "nbformat": 4,
 "nbformat_minor": 5
}
