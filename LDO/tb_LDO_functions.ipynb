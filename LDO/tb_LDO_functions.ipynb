{
 "cells": [
  {
   "cell_type": "code",
   "execution_count": 25,
   "id": "f46a8f0a",
   "metadata": {},
   "outputs": [
    {
     "data": {
      "text/html": [
       "<style>\n",
       "    body {\n",
       "        --vscode-font-family: \"ComicSansMS\"\n",
       "    }\n",
       "</style>\n"
      ],
      "text/plain": [
       "<IPython.core.display.HTML object>"
      ]
     },
     "metadata": {},
     "output_type": "display_data"
    }
   ],
   "source": [
    "%%HTML\n",
    "<style>\n",
    "    body {\n",
    "        --vscode-font-family: \"ComicSansMS\"\n",
    "    }\n",
    "</style>"
   ]
  },
  {
   "cell_type": "code",
   "execution_count": 26,
   "id": "4675b517",
   "metadata": {},
   "outputs": [],
   "source": [
    "import pandas as pd\n",
    "import numpy as np\n",
    "import matplotlib.pyplot as plt"
   ]
  },
  {
   "cell_type": "markdown",
   "id": "3f1da1ea",
   "metadata": {},
   "source": [
    "## Testing out LDO_functions.py"
   ]
  },
  {
   "cell_type": "code",
   "execution_count": 27,
   "id": "2198e24c",
   "metadata": {},
   "outputs": [],
   "source": [
    "## Calling the function from LDO_functions.py\n",
    "from LDO_functions import estimate_amplifier_stages, estimate_GBW_stages\n",
    "# Test the functions using available variables\n",
    "csv_file = \"sf_nmos_char_vg_1_3.csv\"\n",
    "PSRR_target_dB = -40\n",
    "f_bw = 1e6\n",
    "I_load = 10e-3\n",
    "PM_target = 60\n",
    "C_load = 11.4e-12\n",
    "kgm_max = 25\n",
    "I_budget = (5/100) * I_load  # 5% of I_load"
   ]
  },
  {
   "cell_type": "code",
   "execution_count": 28,
   "id": "b7479058",
   "metadata": {},
   "outputs": [
    {
     "name": "stdout",
     "output_type": "stream",
     "text": [
      "Estimated GBW_stage1: 0.92 GHz\n",
      "Estimated GBW_stage2: 0.35 GHz\n"
     ]
    }
   ],
   "source": [
    "GBW_stage1, GBW_stage2 = estimate_GBW_stages(PSRR_target_dB, f_bw, PM_target, C_load)\n",
    "\n",
    "print(f\"Estimated GBW_stage1: {GBW_stage1*1e-9:.2f} GHz\")\n",
    "print(f\"Estimated GBW_stage2: {GBW_stage2*1e-9:.2f} GHz\")"
   ]
  },
  {
   "cell_type": "code",
   "execution_count": 29,
   "id": "a3255c2a",
   "metadata": {},
   "outputs": [
    {
     "name": "stdout",
     "output_type": "stream",
     "text": [
      "Stage 2 required current (I_req_stage2): 0.9925 mA\n",
      "Stage 2 input capacitance (C_in_stage2): 947.78 pF\n",
      "Stage 1 required current (I_req_stage1): 220.0437 mA\n",
      "Total required current (I_req_total): 221.0362 mA\n",
      "Amplifier stages estimation (test):\n",
      "I_req_stage2: 9.9251e-04\n",
      "C_in_stage2: 9.4778e-10\n",
      "I_req_stage1: 2.2004e-01\n",
      "I_req_total: 2.2104e-01\n",
      "details_stage2: {'idx_kgm': 9, 'kgm': np.float64(25.00386507127838), 'kcsg_n': np.float64(3.514438674718297e-07), 'kcgd_n': np.float64(3.017461437348191e-07), 'cgs': np.float64(3.4881190860395424e-10), 'cgd': np.float64(2.994863705182221e-10), 'C_in': np.float64(9.477846496403986e-10)}\n"
     ]
    }
   ],
   "source": [
    "# Estimate amplifier stages using the current test parameters\n",
    "result_test = estimate_amplifier_stages(csv_file, GBW_stage1, GBW_stage2, C_load, kgm_target=25)\n",
    "print(\"Amplifier stages estimation (test):\")\n",
    "for k, v in result_test.items():\n",
    "    if isinstance(v, float) or isinstance(v, np.floating):\n",
    "        print(f\"{k}: {v:.4e}\")\n",
    "    else:\n",
    "        print(f\"{k}: {v}\")"
   ]
  },
  {
   "cell_type": "code",
   "execution_count": 30,
   "id": "aa1d8d7e",
   "metadata": {},
   "outputs": [],
   "source": [
    "def estimate_gbw_and_amplifier_stages(PSRR_target_dB, f_bw, PM_target, C_load, csv_file, kgm_target=25):\n",
    "    \"\"\"\n",
    "    Combines GBW estimation and amplifier stage estimation.\n",
    "\n",
    "    Returns:\n",
    "        result: dict containing GBW_stage1, GBW_stage2, and amplifier stage estimation results.\n",
    "    \"\"\"\n",
    "    GBW_stage1, GBW_stage2 = estimate_GBW_stages(PSRR_target_dB, f_bw, PM_target, C_load)\n",
    "    amp_result = estimate_amplifier_stages(csv_file, GBW_stage1, GBW_stage2, C_load, kgm_target=kgm_target)\n",
    "    result = {\n",
    "        \"GBW_stage1\": GBW_stage1,\n",
    "        \"GBW_stage2\": GBW_stage2,\n",
    "        \"amplifier_stages\": amp_result\n",
    "    }\n",
    "    return result"
   ]
  },
  {
   "cell_type": "code",
   "execution_count": 31,
   "id": "36f55497",
   "metadata": {},
   "outputs": [],
   "source": [
    "## Calling the function from LDO_functions.py\n",
    "from LDO_functions import estimate_amplifier_stages, estimate_GBW_stages, estimate_gbw_and_amplifier_stages\n",
    "# Test the functions using available variables\n",
    "csv_file = \"sf_nmos_char_vg_1_3.csv\"\n",
    "PSRR_target_dB = -40\n",
    "f_bw = 1e6\n",
    "I_load = 10e-3\n",
    "PM_target = 60\n",
    "C_load = 11.4e-12\n",
    "kgm_max = 25\n",
    "I_budget = (5/100) * I_load  # 5% of I_load"
   ]
  },
  {
   "cell_type": "code",
   "execution_count": 32,
   "id": "287e0099",
   "metadata": {},
   "outputs": [
    {
     "name": "stdout",
     "output_type": "stream",
     "text": [
      "Stage 2 required current (I_req_stage2): 0.9925 mA\n",
      "Stage 2 input capacitance (C_in_stage2): 947.78 pF\n",
      "Stage 1 required current (I_req_stage1): 220.0437 mA\n",
      "Total required current (I_req_total): 221.0362 mA\n",
      "Combined GBW and amplifier stage estimation:\n",
      "GBW_stage1: 923760430.7034009\n",
      "GBW_stage2: 346410161.51377535\n",
      "amplifier_stages: {'I_req_stage2': np.float64(0.0009925110121089637), 'C_in_stage2': np.float64(9.477846496403986e-10), 'I_req_stage1': np.float64(0.22004367295343424), 'I_req_total': np.float64(0.2210361839655432), 'details_stage2': {'idx_kgm': 9, 'kgm': np.float64(25.00386507127838), 'kcsg_n': np.float64(3.514438674718297e-07), 'kcgd_n': np.float64(3.017461437348191e-07), 'cgs': np.float64(3.4881190860395424e-10), 'cgd': np.float64(2.994863705182221e-10), 'C_in': np.float64(9.477846496403986e-10)}}\n"
     ]
    }
   ],
   "source": [
    "# Test the combined GBW and amplifier stage estimation function\n",
    "result_combined = estimate_gbw_and_amplifier_stages(\n",
    "    PSRR_target_dB, f_bw, PM_target, C_load, csv_file, kgm_target=kgm_max\n",
    ")\n",
    "print(\"Combined GBW and amplifier stage estimation:\")\n",
    "for key, value in result_combined.items():\n",
    "    print(f\"{key}: {value}\")"
   ]
  },
  {
   "cell_type": "code",
   "execution_count": null,
   "id": "c0265ee5",
   "metadata": {
    "vscode": {
     "languageId": "lua"
    }
   },
   "outputs": [],
   "source": [
    "\n",
    "PSRR_sweep = np.arange(-50, 1, 5)\n",
    "I_budget = (5/100) * I_load  # 5% of I_load\n",
    "I_total_list = []\n",
    "\n",
    "for psrr in PSRR_sweep:\n",
    "    result = estimate_gbw_and_amplifier_stages(\n",
    "        psrr, f_bw, PM_target, C_load, csv_file, kgm_target=kgm_max\n",
    "    )\n",
    "    I_total = result['amplifier_stages']['I_req_total']\n",
    "    I_total_list.append(I_total)\n",
    "\n",
    "\n",
    "plt.figure(figsize=(7, 4))\n",
    "plt.plot(PSRR_sweep, I_total_list, marker='o')\n",
    "plt.hlines(I_budget, xmin=PSRR_sweep.min(), xmax=PSRR_sweep.max(), color='r', linestyle='--', label='I_budget (5% of I_load)')\n",
    "plt.legend()\n",
    "plt.xlabel('PSRR Target (dB)')\n",
    "plt.yscale('log')\n",
    "plt.ylabel('Total Required Current (mA)')\n",
    "plt.title('I_total vs PSRR Target')\n",
    "plt.grid(True)\n",
    "plt.show()\n",
    "\n",
    "# Find the PSRR value where I_total crosses I_budget\n",
    "I_total_arr = np.array(I_total_list)\n",
    "cross_idx = np.where(I_total_arr < I_budget)[0]\n",
    "if len(cross_idx) > 0:\n",
    "    idx = cross_idx[0]\n",
    "    psrr_cross = PSRR_sweep[idx]\n",
    "    I_cross = I_total_arr[idx]\n",
    "    plt.scatter(psrr_cross, I_cross, color='red', zorder=5)\n",
    "    plt.annotate(f'PSRR={psrr_cross} dB\\nI_total={I_cross:.2e} A',\n",
    "                 (psrr_cross, I_cross),\n",
    "                 textcoords=\"offset points\", xytext=(10,10), ha='left', color='red')"
   ]
  }
 ],
 "metadata": {
  "kernelspec": {
   "display_name": "Python 3",
   "language": "python",
   "name": "python3"
  },
  "language_info": {
   "codemirror_mode": {
    "name": "ipython",
    "version": 3
   },
   "file_extension": ".py",
   "mimetype": "text/x-python",
   "name": "python",
   "nbconvert_exporter": "python",
   "pygments_lexer": "ipython3",
   "version": "3.11.9"
  }
 },
 "nbformat": 4,
 "nbformat_minor": 5
}
