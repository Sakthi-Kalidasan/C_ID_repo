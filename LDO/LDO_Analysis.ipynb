{
 "cells": [
  {
   "cell_type": "code",
   "execution_count": 269,
   "id": "91121325",
   "metadata": {},
   "outputs": [
    {
     "data": {
      "text/html": [
       "<style>\n",
       "    body {\n",
       "        --vscode-font-family: \"ComicSansMS\"\n",
       "    }\n",
       "</style>\n"
      ],
      "text/plain": [
       "<IPython.core.display.HTML object>"
      ]
     },
     "metadata": {},
     "output_type": "display_data"
    }
   ],
   "source": [
    "%%HTML\n",
    "<style>\n",
    "    body {\n",
    "        --vscode-font-family: \"ComicSansMS\"\n",
    "    }\n",
    "</style>"
   ]
  },
  {
   "cell_type": "markdown",
   "id": "127a4519",
   "metadata": {},
   "source": [
    "## LDO Analysis for C/ID"
   ]
  },
  {
   "cell_type": "code",
   "execution_count": 270,
   "id": "800d0985",
   "metadata": {},
   "outputs": [],
   "source": [
    "import numpy as np\n",
    "import matplotlib.pyplot as plt\n",
    "import pandas as pd\n",
    "from scipy.interpolate import interp1d"
   ]
  },
  {
   "cell_type": "code",
   "execution_count": 271,
   "id": "23dc024a",
   "metadata": {},
   "outputs": [],
   "source": [
    "## Design requirements\n",
    "kT = 1.38e-23 * 300 # Boltzmann constant times temperature in Kelvin\n",
    "Gamma = 2/3\n",
    "PSRR_dB = -60\n",
    "V_ctrl = 0.9\n",
    "V_dd = 1.8\n",
    "V_out = 1.2\n",
    "f_bw = 1e6\n",
    "I_load = 1e-3\n",
    "PM_target = 60 # degrees\n",
    "Noise_target = 250e-6 # Integrated noise target"
   ]
  },
  {
   "cell_type": "code",
   "execution_count": 272,
   "id": "883c1c21",
   "metadata": {},
   "outputs": [
    {
     "name": "stdout",
     "output_type": "stream",
     "text": [
      "Target Gain of the Amplifier in feedback:  1333.3333333333333\n",
      "Target Gain of the Amplifier in feedback (dB):  62.498774732166\n"
     ]
    }
   ],
   "source": [
    "## Determining Gain requirements of the Amplifier in feedback\n",
    "\n",
    "Amp_gain_target = (10**(-1*PSRR_dB/20)) * (V_out / V_ctrl)\n",
    "Amp_gain_target_dB = 20 * np.log10(Amp_gain_target)\n",
    "print(\"Target Gain of the Amplifier in feedback: \", Amp_gain_target)\n",
    "print(\"Target Gain of the Amplifier in feedback (dB): \", Amp_gain_target_dB)"
   ]
  },
  {
   "cell_type": "code",
   "execution_count": 273,
   "id": "33fe5cf7",
   "metadata": {},
   "outputs": [
    {
     "name": "stdout",
     "output_type": "stream",
     "text": [
      "Effective Resistance seen by the load capacitance:  106103.29539459689\n",
      "Total Current flowing through the lPMOS:  1.0113097335529233 mA\n",
      "Overhead of the LDO:  0.011309733552923194 mA\n",
      "overhead percentage of the LDO:  1.1183253930712158 %\n"
     ]
    }
   ],
   "source": [
    "## Bandwidth estimation\n",
    "\n",
    "C_L = 1.5e-12 # Load capacitance - starting value can change later if noise requirements are not met\n",
    "\n",
    "## Assuming dominant pole comes from the main circuit\n",
    "R_eff = 1/(f_bw * 2 * np.pi * C_L)\n",
    "print(\"Effective Resistance seen by the load capacitance: \", R_eff)\n",
    "\n",
    "I_total = (V_out / R_eff) + I_load\n",
    "print(\"Total Current flowing through the lPMOS: \", I_total*1e3, \"mA\")\n",
    "\n",
    "print(\"Overhead of the LDO: \", (I_total - I_load)*1e3, \"mA\")\n",
    "print(\"overhead percentage of the LDO: \", ((I_total - I_load) / I_total) * 100, \"%\")"
   ]
  },
  {
   "cell_type": "code",
   "execution_count": 274,
   "id": "34599e68",
   "metadata": {},
   "outputs": [
    {
     "name": "stdout",
     "output_type": "stream",
     "text": [
      "Bandwidth factor due to PM requirements:  2.0 x\n",
      "Target Bandwidth of the Amplifier:  2.0 MHz\n",
      "Gain-Bandwidth Product of the Amplifier:  2.6666666666666665 GHz\n"
     ]
    }
   ],
   "source": [
    "## Amplifier bandwidth estimation\n",
    "factor = np.tan(PM_target * np.pi / 180) # Converting PM to radians\n",
    "factor = np.ceil(factor)\n",
    "print(\"Bandwidth factor due to PM requirements: \", factor,\"x\")\n",
    "Amp_bw = f_bw * factor # Assuming 10 times the bandwidth of the system\n",
    "\n",
    "print(\"Target Bandwidth of the Amplifier: \", Amp_bw*1e-6, \"MHz\")\n",
    "\n",
    "GBW_Amp = Amp_gain_target * Amp_bw\n",
    "print(\"Gain-Bandwidth Product of the Amplifier: \", GBW_Amp*1e-9, \"GHz\")"
   ]
  },
  {
   "cell_type": "code",
   "execution_count": 275,
   "id": "81603da1",
   "metadata": {},
   "outputs": [
    {
     "name": "stdout",
     "output_type": "stream",
     "text": [
      "Power Spectral Density target:  6.25e-14 V^2/Hz\n",
      "Target output referred noise contribution from Amp:  176.7766952966369 uV\n",
      "Target input referred noise contribution from Amp:  0.13258252147247768 uV\n",
      "R_eff noise contribution:  93.73021315815207 uV\n",
      "PMOS noise target:  149.8821108115554 uV\n",
      "Target gm of the pass transistor:  0.024099693510322186 mS\n",
      "kgm target of the pass transistor:  0.023830180518143916\n"
     ]
    }
   ],
   "source": [
    "## Noise estimation\n",
    "Noise_bandwidth = 5*f_bw # Assuming a 2nd order system\n",
    "PSD_target = Noise_target**2 / (f_bw) # Assuming uniform distribution of noise over the bandwidth\n",
    "print(\"Power Spectral Density target: \", PSD_target, \"V^2/Hz\")\n",
    "\n",
    "## Assume equal noise contribution from amp and non-amp\n",
    "V_noise_amp = Noise_target / np.sqrt(2)\n",
    "V_noise_LDO = Noise_target / np.sqrt(2)\n",
    "\n",
    "V_noise_amp_input = V_noise_amp / (Amp_gain_target)\n",
    "\n",
    "print(\"Target output referred noise contribution from Amp: \", V_noise_amp*1e6, \"uV\")\n",
    "print(\"Target input referred noise contribution from Amp: \", V_noise_amp_input*1e6, \"uV\")\n",
    "\n",
    "V_noise_Reff = np.sqrt((4*kT*R_eff)*Noise_bandwidth)\n",
    "print(\"R_eff noise contribution: \", V_noise_Reff*1e6, \"uV\")\n",
    "\n",
    "V_noise_PMOS_target = np.sqrt((V_noise_LDO**2) - (V_noise_Reff**2))\n",
    "print(\"PMOS noise target: \", V_noise_PMOS_target*1e6, \"uV\")\n",
    "PSD_PMOS_target = V_noise_PMOS_target**2 / Noise_bandwidth\n",
    "gm_PMOS_target = PSD_PMOS_target/(4*kT*(R_eff**2))\n",
    "print(\"Target gm of the pass transistor: \", gm_PMOS_target*1e3, \"mS\")\n",
    "\n",
    "gm_ID_target = gm_PMOS_target / (I_total)\n",
    "print(\"kgm target of the pass transistor: \", gm_ID_target)"
   ]
  },
  {
   "cell_type": "code",
   "execution_count": 276,
   "id": "900cd5b4",
   "metadata": {},
   "outputs": [
    {
     "name": "stdout",
     "output_type": "stream",
     "text": [
      "\n",
      "\n",
      "Summary of the Amplifier requirements:\n",
      "Gain:  1333.3333333333333  ( 62.498774732166 dB )\n",
      "Input referred noise:  0.13258252147247768 uV\n",
      "Bandwidth:  2.0 MHz\n"
     ]
    }
   ],
   "source": [
    "## Amplifier requirements\n",
    "print(\"\\n\\nSummary of the Amplifier requirements:\")\n",
    "print(\"Gain: \", Amp_gain_target, \" (\", Amp_gain_target_dB, \"dB )\")\n",
    "print(\"Input referred noise: \", V_noise_amp_input*1e6, \"uV\")\n",
    "print(\"Bandwidth: \", Amp_bw*1e-6, \"MHz\")\n"
   ]
  },
  {
   "cell_type": "code",
   "execution_count": 277,
   "id": "9861c5b5",
   "metadata": {},
   "outputs": [
    {
     "name": "stdout",
     "output_type": "stream",
     "text": [
      "Minimum gm requirement of the amplifier for the given bandwidth:  1.8849555921538759 mS\n"
     ]
    }
   ],
   "source": [
    "## gm requirements estimation based on bandwidth for a single stage amp\n",
    "\n",
    "Cgs_pmos = 100e-12\n",
    "C_par_amp = 50e-12\n",
    "\n",
    "C_Load_1 = Cgs_pmos + C_par_amp\n",
    "\n",
    "gm_target_bw =  (2 * np.pi * Amp_bw * C_Load_1)\n",
    "print(\"Minimum gm requirement of the amplifier for the given bandwidth: \", gm_target_bw*1e3, \"mS\")"
   ]
  },
  {
   "cell_type": "code",
   "execution_count": 278,
   "id": "324678bf",
   "metadata": {},
   "outputs": [
    {
     "name": "stdout",
     "output_type": "stream",
     "text": [
      "Minimum gm requirement of the amplifier for the given noise target:  0.003532800000000001 mS\n"
     ]
    }
   ],
   "source": [
    "## gm requirements estimation based on noise requirements for a single stage amp\n",
    "\n",
    "Noise_bandwidth_amp = 5*Amp_bw\n",
    "\n",
    "PSD_target_amp = (V_noise_amp**2) / Noise_bandwidth_amp\n",
    "\n",
    "gm_target_noise = 4*kT*Gamma / PSD_target_amp\n",
    "\n",
    "print(\"Minimum gm requirement of the amplifier for the given noise target: \", gm_target_noise*1e3, \"mS\")"
   ]
  },
  {
   "cell_type": "code",
   "execution_count": 279,
   "id": "7533703e",
   "metadata": {},
   "outputs": [
    {
     "name": "stdout",
     "output_type": "stream",
     "text": [
      "Minimum gm requirement of the amplifier for the given design:  1.8849555921538759 mS\n"
     ]
    }
   ],
   "source": [
    "## gm requirements for design\n",
    "gm_target = max(gm_target_bw, gm_target_noise)\n",
    "print(\"Minimum gm requirement of the amplifier for the given design: \", gm_target*1e3, \"mS\")"
   ]
  },
  {
   "cell_type": "markdown",
   "id": "8e77c43d",
   "metadata": {},
   "source": [
    "## Updated estimate om Sep 06 2025"
   ]
  },
  {
   "cell_type": "code",
   "execution_count": 280,
   "id": "6f6416b1",
   "metadata": {},
   "outputs": [
    {
     "name": "stdout",
     "output_type": "stream",
     "text": [
      "Achieved Bandwidth with R_L_eff 290.00 Ohms and C_load_eff 100.4 pF: 5.47 MHz\n",
      "Capacitance scaling factor to achieve target BW 1.0 MHz: 5.466x\n"
     ]
    }
   ],
   "source": [
    "C_load_eff = 100.4e-12 # Effective load capacitance including parasitics from previous analysis\n",
    "\n",
    "R_L_eff = 290 # Effective load resistance including pass transistor rds from previous analysis\n",
    "\n",
    "## Bandwidth target and Reff estimate\n",
    "BW_target = 1e6  # 2MHz\n",
    "\n",
    "f_bw = 1/(2 * np.pi * R_L_eff * C_load_eff)\n",
    "print(f\"Achieved Bandwidth with R_L_eff {R_L_eff:.2f} Ohms and C_load_eff {C_load_eff*1e12:.1f} pF: {f_bw*1e-6:.2f} MHz\")\n",
    "\n",
    "C_scale = f_bw / BW_target\n",
    "print(f\"Capacitance scaling factor to achieve target BW {BW_target*1e-6:.1f} MHz: {C_scale:.3f}x\")\n"
   ]
  },
  {
   "cell_type": "markdown",
   "id": "5ff0776d",
   "metadata": {},
   "source": [
    "# Reestimating pole requriements for the design on Sep 06 2025"
   ]
  },
  {
   "cell_type": "code",
   "execution_count": 281,
   "id": "bd2862b8",
   "metadata": {},
   "outputs": [
    {
     "name": "stdout",
     "output_type": "stream",
     "text": [
      "Unity Gain Frequency (f_u) of the Amplifier for BW target 1.0 MHz and Gain 1000 (60dB): 1000.00 MHz\n",
      "Required location of the 2nd pole (f_p2) for PM target 60 degrees: 1732.05 MHz\n",
      "Required location of the 3rd pole (f_p3) for stability: 3464.10 MHz\n"
     ]
    }
   ],
   "source": [
    "f_bw = 1e6\n",
    "Ao = 1000 # 60dB\n",
    "PM_target = 60 # degrees\n",
    "\n",
    "f_u = f_bw * Ao\n",
    "print(f\"Unity Gain Frequency (f_u) of the Amplifier for BW target {f_bw*1e-6:.1f} MHz and Gain {Ao} (60dB): {f_u*1e-6:.2f} MHz\")\n",
    "\n",
    "f_p2 = f_u*np.tan(np.radians(PM_target))\n",
    "print(f\"Required location of the 2nd pole (f_p2) for PM target {PM_target} degrees: {f_p2*1e-6:.2f} MHz\")\n",
    "\n",
    "f_p3 = f_p2 * 2\n",
    "print(f\"Required location of the 3rd pole (f_p3) for stability: {f_p3*1e-6:.2f} MHz\")\n"
   ]
  },
  {
   "cell_type": "code",
   "execution_count": 282,
   "id": "64f152a9",
   "metadata": {},
   "outputs": [
    {
     "name": "stdout",
     "output_type": "stream",
     "text": [
      "Effective Resistance (R_eff) seen by the load capacitance 11.4 pF for f_p3 3464.10 MHz: 4.03 Ohms\n"
     ]
    }
   ],
   "source": [
    "## Estimating circuit paramters for f_p3 for a source follower stage\n",
    "C_load = 11.4e-12\n",
    "R_eff = 1/(2 * np.pi * f_p3 * C_load)\n",
    "print(f\"Effective Resistance (R_eff) seen by the load capacitance {C_load*1e12:.1f} pF for f_p3 {f_p3*1e-6:.2f} MHz: {R_eff:.2f} Ohms\")"
   ]
  },
  {
   "cell_type": "markdown",
   "id": "faeafc37",
   "metadata": {},
   "source": [
    "## LDO High level Optimization strategy\n",
    "1. Bandwidth\n",
    "2. Power budget\n",
    "3. PSRR\n",
    "4. Slewing "
   ]
  },
  {
   "cell_type": "code",
   "execution_count": 283,
   "id": "832215c5",
   "metadata": {},
   "outputs": [],
   "source": [
    "## Amplifer design parameters based on pass transistor design targets\n",
    "C_load = 11.4e-12 # Comes from the pass transistor design\n",
    "f_bw = 1e6\n",
    "k = 3/4 # 0.9V ctrl voltage and 1.2V LDO output voltage\n",
    "I_load = 10e-3 # LDO load current through the pass transistor\n",
    "Av_pass = 25 # Gain of the pass transistor stage"
   ]
  },
  {
   "cell_type": "code",
   "execution_count": 284,
   "id": "98daf5ad",
   "metadata": {},
   "outputs": [
    {
     "name": "stdout",
     "output_type": "stream",
     "text": [
      "Amplifier Gain (Av_amp) requirement for 1.0 mA budget and 60 dB PSRR: 53.33 V/V\n"
     ]
    }
   ],
   "source": [
    "## 1st case, 10% of I_load and 60 dB PSRR\n",
    "PSRR_target_dB = -60\n",
    "PSRR_target = 10**(PSRR_target_dB/20)\n",
    "I_budget = (10/100) * I_load\n",
    "Av_amp = (10**(-PSRR_target_dB/20)) * (1/(k*Av_pass))\n",
    "print(f\"Amplifier Gain (Av_amp) requirement for {I_budget*1e3:.1f} mA budget and 60 dB PSRR: {Av_amp:.2f} V/V\")"
   ]
  },
  {
   "cell_type": "code",
   "execution_count": 285,
   "id": "650303c0",
   "metadata": {},
   "outputs": [
    {
     "name": "stdout",
     "output_type": "stream",
     "text": [
      "Unity Gain Frequency (f_u) of the Amplifier for BW target 1.0 MHz and PSRR target -60 dB: 1000.00 MHz\n",
      "Required location of the 2nd pole (f_p2) for PM target 60 degrees: 1732.05 MHz\n",
      "Required location of the 3rd pole (f_p3) for stability: 3464.10 MHz\n"
     ]
    }
   ],
   "source": [
    "## Pole requirements for stability\n",
    "f_u = (1/PSRR_target)*f_bw\n",
    "f_p2 = f_u * np.tan(np.radians(PM_target))\n",
    "f_p3 = f_p2 * 2\n",
    "\n",
    "print(f\"Unity Gain Frequency (f_u) of the Amplifier for BW target {f_bw*1e-6:.1f} MHz and PSRR target {PSRR_target_dB} dB: {f_u*1e-6:.2f} MHz\")\n",
    "print(f\"Required location of the 2nd pole (f_p2) for PM target {PM_target} degrees: {f_p2*1e-6:.2f} MHz\")\n",
    "print(f\"Required location of the 3rd pole (f_p3) for stability: {f_p3*1e-6:.2f} MHz\")"
   ]
  },
  {
   "cell_type": "code",
   "execution_count": 286,
   "id": "4c09c2b7",
   "metadata": {},
   "outputs": [],
   "source": [
    "## Assuming first stage dominant pole and second stage of amp is a source follower\n",
    "Av_2 = 1 # Gain of the 2nd stage of the amplifier\n",
    "Av_1 = Av_amp / Av_2"
   ]
  },
  {
   "cell_type": "code",
   "execution_count": 287,
   "id": "dbf3e821",
   "metadata": {},
   "outputs": [
    {
     "name": "stdout",
     "output_type": "stream",
     "text": [
      "Gain-Bandwidth Product of stage 1 (GBW_stage1) with Av_1 53.33 and f_p2 1732.05 MHz: 92.38 GHz\n",
      "Gain-Bandwidth Product of stage 2 (GBW_stage2) with Av_2 1.00 and f_p3 3464.10 MHz: 3.46 GHz\n"
     ]
    }
   ],
   "source": [
    "GBW_stage1 = Av_1 * f_p2\n",
    "GBW_stage2 = Av_2 * f_p3\n",
    "\n",
    "print(f\"Gain-Bandwidth Product of stage 1 (GBW_stage1) with Av_1 {Av_1:.2f} and f_p2 {f_p2*1e-6:.2f} MHz: {GBW_stage1*1e-9:.2f} GHz\")\n",
    "print(f\"Gain-Bandwidth Product of stage 2 (GBW_stage2) with Av_2 {Av_2:.2f} and f_p3 {f_p3*1e-6:.2f} MHz: {GBW_stage2*1e-9:.2f} GHz\")"
   ]
  },
  {
   "cell_type": "code",
   "execution_count": 288,
   "id": "767b38aa",
   "metadata": {},
   "outputs": [
    {
     "name": "stdout",
     "output_type": "stream",
     "text": [
      "Required gm of the 2nd stage of the amplifier for GBW_stage2 3.46 GHz and C_load 11.4 pF: 248.13 mS\n",
      "Required current of the 2nd stage of the amplifier for kgm_max 25 : 9.93 mA\n"
     ]
    }
   ],
   "source": [
    "## Checking second stage GBW feasibility\n",
    "kgm_max = 25 # Arbitrary max value for 180nm technology\n",
    "gm_req = 2 * np.pi * C_load * GBW_stage2 \n",
    "I_req = gm_req / kgm_max\n",
    "print(f\"Required gm of the 2nd stage of the amplifier for GBW_stage2 {GBW_stage2*1e-9:.2f} GHz and C_load {C_load*1e12:.1f} pF: {gm_req*1e3:.2f} mS\")\n",
    "print(f\"Required current of the 2nd stage of the amplifier for kgm_max {kgm_max} : {I_req*1e3:.2f} mA\")"
   ]
  },
  {
   "cell_type": "code",
   "execution_count": 289,
   "id": "27a14768",
   "metadata": {},
   "outputs": [],
   "source": [
    "## Converting this into a function for varying PSRR and I_budget just for the second stage\n",
    "def analyze_second_stage(PSRR_target_dB, I_budget):\n",
    "    PSRR_target = 10**(PSRR_target_dB/20)\n",
    "    f_u = (1/PSRR_target)*f_bw\n",
    "    f_p2 = f_u * np.tan(np.radians(PM_target))\n",
    "    f_p3 = f_p2 * 2\n",
    "\n",
    "    GBW_stage2 = Av_2 * f_p3\n",
    "\n",
    "    kgm_max = 25 # Arbitrary max value for 180nm technology\n",
    "    gm_req = 2 * np.pi * C_load * GBW_stage2\n",
    "    I_req = gm_req / kgm_max\n",
    "    # print(f\"Required gm of the 2nd stage of the amplifier for GBW_stage2 {GBW_stage2*1e-9:.2f} GHz and C_load {C_load*1e12:.1f} pF: {gm_req*1e3:.2f} mS\")\n",
    "    # print(f\"Required current of the 2nd stage of the amplifier for kgm_max {kgm_max} : {I_req*1e3:.2f} mA while having I_budget {I_budget*1e3:.1f} mA and PSRR_target {PSRR_target_dB} dB\")\n",
    "    return I_req\n",
    "\n",
    "I_req_2 = analyze_second_stage(-35, (5/100)*I_load)"
   ]
  },
  {
   "cell_type": "code",
   "execution_count": 290,
   "id": "195f9c4a",
   "metadata": {},
   "outputs": [
    {
     "name": "stdout",
     "output_type": "stream",
     "text": [
      "Closest I_req_2 to I_budget: 0.4974 mA at PSRR = -34 dB\n"
     ]
    },
    {
     "data": {
      "image/png": "[encoded data removed]",
      "text/plain": [
       "<Figure size 800x500 with 1 Axes>"
      ]
     },
     "metadata": {},
     "output_type": "display_data"
    }
   ],
   "source": [
    "import matplotlib.pyplot as plt\n",
    "\n",
    "PSRR_targets_dB = np.arange(-70, -19, 1)\n",
    "I_budget = 0.05 * I_load\n",
    "I_req_2_list = []\n",
    "\n",
    "for psrr_db in PSRR_targets_dB:\n",
    "    I_req_2_list.append(analyze_second_stage(psrr_db, I_budget))\n",
    "\n",
    "\n",
    "I_req_2_arr = np.array(I_req_2_list)\n",
    "idx_closest = np.argmin(np.abs(I_req_2_arr - I_budget))\n",
    "i_req_closest = I_req_2_arr[idx_closest]\n",
    "psrr_closest = PSRR_targets_dB[idx_closest]\n",
    "print(f\"Closest I_req_2 to I_budget: {i_req_closest*1e3:.4f} mA at PSRR = {psrr_closest} dB\")\n",
    "\n",
    "\n",
    "\n",
    "plt.figure(figsize=(8,5))\n",
    "plt.plot(PSRR_targets_dB, np.array(I_req_2_list)*1e3, marker='o')\n",
    "plt.hlines(I_budget*1e3, PSRR_targets_dB[0], PSRR_targets_dB[-1], color='r', linestyle='--', label='I_budget (5% of I_load)')\n",
    "plt.axvline(psrr_closest, color='g', linestyle='--', label=f'Closest PSRR ({psrr_closest} dB)')\n",
    "plt.annotate(f'Closest\\n{psrr_closest} dB,\\n{(i_req_closest*1e3):.3f} mA',\n",
    "             xy=(psrr_closest, i_req_closest*1e3),\n",
    "             xytext=(psrr_closest+2, i_req_closest*1e3+2),\n",
    "             arrowprops=dict(facecolor='black', arrowstyle='->'),\n",
    "             fontsize=10, color='g')\n",
    "plt.legend()\n",
    "plt.xlabel('PSRR Target (dB)')\n",
    "plt.ylabel('I_req_2 (mA)')\n",
    "plt.title('I_req_2 vs PSRR Target for 5% I_budget')\n",
    "plt.grid(True)\n",
    "plt.show()"
   ]
  },
  {
   "cell_type": "markdown",
   "id": "fa0823c5",
   "metadata": {},
   "source": [
    "## Next steps \n",
    "1. Extract Kgm vs kcg data for a source follower by sweeping the current.\n",
    "2. Large signal needs to be captured since V_g of PMOS needs to be close to 1.25V\n",
    "3. Vin will be set as 1.3V  "
   ]
  },
  {
   "cell_type": "code",
   "execution_count": 291,
   "id": "00a71f91",
   "metadata": {},
   "outputs": [],
   "source": [
    "# Extract parameters\n",
    "param_master = pd.read_csv(\"sf_nmos_char_vg_1_3.csv\")"
   ]
  },
  {
   "cell_type": "code",
   "execution_count": 292,
   "id": "f76f98dc",
   "metadata": {},
   "outputs": [],
   "source": [
    "kgm_n = np.abs(param_master['kgmn Y'])\n",
    "kcsg_n = np.abs(param_master['kcgs_n Y'])\n",
    "kcgd_n = np.abs(param_master['kcgd_n Y'])\n",
    "kgds_n = np.abs(param_master['kgds_n Y'])\n",
    "ids = np.abs(param_master['ids Y'])\n",
    "I_sweep = np.abs(param_master['ids X']) "
   ]
  },
  {
   "cell_type": "code",
   "execution_count": 293,
   "id": "2ce9287c",
   "metadata": {},
   "outputs": [
    {
     "data": {
      "image/png": "[encoded data removed]",
      "text/plain": [
       "<Figure size 800x500 with 1 Axes>"
      ]
     },
     "metadata": {},
     "output_type": "display_data"
    }
   ],
   "source": [
    "plt.figure(figsize=(8,5))\n",
    "plt.plot(kgm_n, kcsg_n, label='kcsg_n vs kgm_n')\n",
    "plt.plot(kgm_n, kcgd_n, label='kcgd_n vs kgm_n')\n",
    "plt.yscale('log')\n",
    "plt.xlabel('kgm_n')\n",
    "plt.ylabel('kcsg_n / kcgd_n')\n",
    "plt.title('kcsg_n and kcgd_n vs kgm_n')\n",
    "plt.legend()\n",
    "plt.grid(True)\n",
    "plt.show()"
   ]
  },
  {
   "cell_type": "code",
   "execution_count": 294,
   "id": "e69c57b7",
   "metadata": {},
   "outputs": [
    {
     "name": "stdout",
     "output_type": "stream",
     "text": [
      "Target current for the 2nd stage from kgm = 25 assumption: 0.497 mA\n",
      "At kgm ≈ 25: kcsg_n = 3.514e-07, kcgd_n = 3.017e-07\n",
      "At I_target = 0.497 mA, cgs_nmos = 174820.08 fF, cgd_nmos = 150098.75 fF\n",
      "At I_target = 0.497 mA, Cg_in = 475.02 pF\n"
     ]
    }
   ],
   "source": [
    "I_target = i_req_closest\n",
    "print(f\"Target current for the 2nd stage from kgm = 25 assumption: {I_target*1e3:.3f} mA\")\n",
    "\n",
    "# Find the index where kgm_n is closest to kgm_max (target kgm)\n",
    "idx_kgm = (kgm_n - kgm_max).abs().idxmin()\n",
    "ksg_at_kgm = kcsg_n.iloc[idx_kgm]\n",
    "kcgd_at_kgm = kcgd_n.iloc[idx_kgm]\n",
    "print(f\"At kgm ≈ {kgm_max}: kcsg_n = {ksg_at_kgm:.3e}, kcgd_n = {kcgd_at_kgm:.3e}\")\n",
    "cgs_nmos = ksg_at_kgm * I_target\n",
    "cgd_nmos = kcgd_at_kgm * I_target\n",
    "Cg_in = cgs_nmos + cgd_nmos * (1 + Av_2)\n",
    "print(f\"At I_target = {I_target*1e3:.3f} mA, cgs_nmos = {cgs_nmos*1e15:.2f} fF, cgd_nmos = {cgd_nmos*1e15:.2f} fF\")\n",
    "print(f\"At I_target = {I_target*1e3:.3f} mA, Cg_in = {Cg_in*1e12:.2f} pF\")\n"
   ]
  },
  {
   "cell_type": "markdown",
   "id": "e157e1ff",
   "metadata": {},
   "source": [
    "### Estimating the I_required of the first stage with this design constraints"
   ]
  },
  {
   "cell_type": "code",
   "execution_count": 295,
   "id": "4818550b",
   "metadata": {},
   "outputs": [
    {
     "name": "stdout",
     "output_type": "stream",
     "text": [
      "Required gm of the 1st stage of the amplifier for GBW_stage1 92376.04 MHz and Cg_in 475.02 pF: 275707.70 mS\n",
      "Required current of the 1st stage of the amplifier for kgm_max 25 : 11028.31 mA, while having I_budget 0.5 mA and PSRR_target -34 dB\n"
     ]
    }
   ],
   "source": [
    "gm_req_stg_1 = GBW_stage1*2 * np.pi * Cg_in\n",
    "print(f\"Required gm of the 1st stage of the amplifier for GBW_stage1 {GBW_stage1*1e-6:.2f} MHz and Cg_in {Cg_in*1e12:.2f} pF: {gm_req_stg_1*1e3:.2f} mS\")\n",
    "\n",
    "kgm_max = 25 # Arbitrary max value for 180nm technology\n",
    "I_req_stg_1 = gm_req_stg_1 / kgm_max\n",
    "\n",
    "print(f\"Required current of the 1st stage of the amplifier for kgm_max {kgm_max} : {I_req_stg_1*1e3:.2f} mA, while having I_budget {I_budget*1e3:.1f} mA and PSRR_target {psrr_closest} dB\")\n"
   ]
  },
  {
   "cell_type": "markdown",
   "id": "8fe43e8c",
   "metadata": {},
   "source": [
    "### Wrapping the first pass estimations in to a function to estimate small signal feasibility "
   ]
  },
  {
   "cell_type": "markdown",
   "id": "50856454",
   "metadata": {},
   "source": [
    "## Planning the function out\n",
    "Input: PSRR_dB, I_budget\n",
    "Output: I_req_stg_1, I_req_stg_2, I_req_total\n",
    "\n",
    "1. Estimate I_req2 based on analysis\n",
    "2. Estimate Cin for the second stage\n",
    "3. Estimate I_req1 based on analysis"
   ]
  },
  {
   "cell_type": "code",
   "execution_count": 296,
   "id": "df311cc4",
   "metadata": {},
   "outputs": [],
   "source": [
    "def estimate_C_in_stg2(csv_file, I_req, kgm_target):\n",
    "    \"\"\"\n",
    "    Estimate the input capacitance (C_in) for a source follower stage\n",
    "    by finding the closest kgm in the data and using the corresponding kcgs and kcgd.\n",
    "\n",
    "    Args:\n",
    "        csv_file (str): Path to the CSV file with device parameters.\n",
    "        I_req (float): Required current (A).\n",
    "        kgm_target (float): Target kgm value.\n",
    "\n",
    "    Returns:\n",
    "        float: Estimated input capacitance (F).\n",
    "        dict: Dictionary with details at the selected point.\n",
    "    \"\"\"\n",
    "    df = pd.read_csv(csv_file)\n",
    "    kgm_n = np.abs(df['kgmn Y'])\n",
    "    kcsg_n = np.abs(df['kcgs_n Y'])\n",
    "    kcgd_n = np.abs(df['kcgd_n Y'])\n",
    "\n",
    "    idx_kgm = (kgm_n - kgm_target).abs().idxmin()\n",
    "    ksg_at_kgm = kcsg_n.iloc[idx_kgm]\n",
    "    kcgd_at_kgm = kcgd_n.iloc[idx_kgm]\n",
    "\n",
    "    cgs = ksg_at_kgm * I_req\n",
    "    cgd = kcgd_at_kgm * I_req\n",
    "    # For a source follower, Av_2 = 1 (as in your notebook)\n",
    "    C_in = cgs + cgd * (1 + 1)\n",
    "\n",
    "    details = {\n",
    "        'idx_kgm': idx_kgm,\n",
    "        'kgm': kgm_n.iloc[idx_kgm],\n",
    "        'kcsg_n': ksg_at_kgm,\n",
    "        'kcgd_n': kcgd_at_kgm,\n",
    "        'cgs': cgs,\n",
    "        'cgd': cgd,\n",
    "        'C_in': C_in\n",
    "    }\n",
    "    return C_in, details"
   ]
  },
  {
   "cell_type": "code",
   "execution_count": 297,
   "id": "4feec9a1",
   "metadata": {},
   "outputs": [
    {
     "name": "stdout",
     "output_type": "stream",
     "text": [
      "Estimated C_in: 475.02 pF\n",
      "Details at selected point: {'idx_kgm': 9, 'kgm': np.float64(25.00386507127838), 'kcsg_n': np.float64(3.514438674718297e-07), 'kcgd_n': np.float64(3.017461437348191e-07), 'cgs': np.float64(1.7482007552946473e-10), 'cgd': np.float64(1.500987455491e-10), 'C_in': np.float64(4.750175666276647e-10)}\n"
     ]
    }
   ],
   "source": [
    "# Test the estimate_C_in_stg2 function using the available data and variables\n",
    "csv_file = \"sf_nmos_char_vg_1_3.csv\"\n",
    "I_req_test = I_target  # Use the previously calculated I_target\n",
    "kgm_target_test = 25\n",
    "\n",
    "C_in_test, details_test = estimate_C_in_stg2(csv_file, I_req_test, kgm_target_test)\n",
    "print(f\"Estimated C_in: {C_in_test*1e12:.2f} pF\")\n",
    "print(\"Details at selected point:\", details_test)"
   ]
  },
  {
   "cell_type": "code",
   "execution_count": 298,
   "id": "06e93e40",
   "metadata": {},
   "outputs": [],
   "source": [
    "def extract_I_req_stage1(C_out, GBW_stage1, kgm_max=25):\n",
    "    \"\"\"\n",
    "    Estimate the required current for the first stage of the amplifier\n",
    "    given the output capacitance, GBW, and maximum kgm.\n",
    "\n",
    "    Args:\n",
    "        C_in (float): Input capacitance of the first stage (F).\n",
    "        GBW_stage1 (float): Gain-bandwidth product for the first stage (Hz).\n",
    "        kgm_max (float): Maximum allowed gm/I (default: 25 S/A).\n",
    "\n",
    "    Returns:\n",
    "        float: Required current for the first stage (A).\n",
    "    \"\"\"\n",
    "    gm_req = 2 * np.pi * C_out * GBW_stage1\n",
    "    I_req = gm_req / kgm_max\n",
    "    return I_req"
   ]
  },
  {
   "cell_type": "code",
   "execution_count": 299,
   "id": "003ff7f4",
   "metadata": {},
   "outputs": [
    {
     "name": "stdout",
     "output_type": "stream",
     "text": [
      "Estimated I_req_stage1: 11028.308 mA\n"
     ]
    }
   ],
   "source": [
    "# Test extract_I_req_stage1 function using available variables\n",
    "C_out_test = Cg_in  # Use Cg_in as the output capacitance for stage 1\n",
    "GBW_stage1_test = GBW_stage1  # Use previously calculated GBW_stage1\n",
    "\n",
    "I_req_stage1_test = extract_I_req_stage1(C_out_test, GBW_stage1_test, kgm_max)\n",
    "print(f\"Estimated I_req_stage1: {I_req_stage1_test*1e3:.3f} mA\")"
   ]
  },
  {
   "cell_type": "code",
   "execution_count": 300,
   "id": "132a7082",
   "metadata": {},
   "outputs": [],
   "source": [
    "def estimate_amplifier_stages(csv_file, PSRR_target_dB, I_budget, kgm_target=25):\n",
    "    \"\"\"\n",
    "    Estimate the required currents for both amplifier stages and total current.\n",
    "\n",
    "    Args:\n",
    "        csv_file (str): Path to the CSV file with device parameters.\n",
    "        PSRR_target_dB (float or int): PSRR target in dB.\n",
    "        I_budget (float): Current budget for the second stage (A).\n",
    "        kgm_target (float): Target kgm value for both stages (default: 25).\n",
    "\n",
    "    Returns:\n",
    "        dict: {\n",
    "            'I_req_stage2': Required current for stage 2 (A),\n",
    "            'C_in_stage2': Estimated input capacitance for stage 2 (F),\n",
    "            'I_req_stage1': Required current for stage 1 (A),\n",
    "            'I_req_total': Total required current (A),\n",
    "            'details_stage2': Details at selected point for stage 2\n",
    "        }\n",
    "    \"\"\"\n",
    "    # 1. Estimate I_req2 based on PSRR and I_budget\n",
    "    I_req_stage2 = analyze_second_stage(PSRR_target_dB, I_budget)\n",
    "    # 2. Estimate Cin for the second stage\n",
    "    C_in_stage2, details_stage2 = estimate_C_in_stg2(csv_file, I_req_stage2, kgm_target)\n",
    "    # 3. Estimate I_req1 based on Cin and GBW_stage1\n",
    "    I_req_stage1 = extract_I_req_stage1(C_in_stage2, GBW_stage1, kgm_target)\n",
    "    # 4. Total required current\n",
    "    I_req_total = I_req_stage1 + I_req_stage2\n",
    "\n",
    "    print(f\"Stage 2 required current (I_req_stage2): {I_req_stage2*1e3:.4f} mA\")\n",
    "    print(f\"Stage 2 input capacitance (C_in_stage2): {C_in_stage2*1e12:.2f} pF\")\n",
    "    print(f\"Stage 1 required current (I_req_stage1): {I_req_stage1*1e3:.4f} mA\")\n",
    "    print(f\"Total required current (I_req_total): {I_req_total*1e3:.4f} mA\")\n",
    "    return {\n",
    "        'I_req_stage2': I_req_stage2,\n",
    "        'C_in_stage2': C_in_stage2,\n",
    "        'I_req_stage1': I_req_stage1,\n",
    "        'I_req_total': I_req_total,\n",
    "        'details_stage2': details_stage2\n",
    "    }"
   ]
  },
  {
   "cell_type": "code",
   "execution_count": 301,
   "id": "a580cd6d",
   "metadata": {},
   "outputs": [
    {
     "name": "stdout",
     "output_type": "stream",
     "text": [
      "Stage 2 required current (I_req_stage2): 0.9925 mA\n",
      "Stage 2 input capacitance (C_in_stage2): 947.78 pF\n",
      "Stage 1 required current (I_req_stage1): 22004.3673 mA\n",
      "Total required current (I_req_total): 22005.3598 mA\n",
      "Amplifier stages estimation result:\n",
      "I_req_stage2: 9.9251e-04\n",
      "C_in_stage2: 9.4778e-10\n",
      "I_req_stage1: 2.2004e+01\n",
      "I_req_total: 2.2005e+01\n",
      "details_stage2: {'idx_kgm': 9, 'kgm': np.float64(25.00386507127838), 'kcsg_n': np.float64(3.514438674718297e-07), 'kcgd_n': np.float64(3.017461437348191e-07), 'cgs': np.float64(3.4881190860395424e-10), 'cgd': np.float64(2.994863705182221e-10), 'C_in': np.float64(9.477846496403986e-10)}\n"
     ]
    }
   ],
   "source": [
    "# Test the estimate_amplifier_stages function using available variables\n",
    "csv_file = \"sf_nmos_char_vg_1_3.csv\"\n",
    "PSRR_target_dB = -40\n",
    "I_budget = (5/100) * I_load  # 5% of I_load\n",
    "kgm_max = 25\n",
    "\n",
    "result = estimate_amplifier_stages(csv_file, PSRR_target_dB, I_budget, kgm_max)\n",
    "print(\"Amplifier stages estimation result:\")\n",
    "for k, v in result.items():\n",
    "    if isinstance(v, float) or isinstance(v, np.floating):\n",
    "        print(f\"{k}: {v:.4e}\")\n",
    "    else:\n",
    "        print(f\"{k}: {v}\")"
   ]
  },
  {
   "cell_type": "markdown",
   "id": "64bc6c53",
   "metadata": {},
   "source": [
    "## Estimating the PSRR spec that brings total current below I_budget"
   ]
  },
  {
   "cell_type": "code",
   "execution_count": 302,
   "id": "b7b9263b",
   "metadata": {},
   "outputs": [
    {
     "name": "stdout",
     "output_type": "stream",
     "text": [
      "Stage 2 required current (I_req_stage2): 0.9925 mA\n",
      "Stage 2 input capacitance (C_in_stage2): 947.78 pF\n",
      "Stage 1 required current (I_req_stage1): 22004.3673 mA\n",
      "Total required current (I_req_total): 22005.3598 mA\n",
      "Stage 2 required current (I_req_stage2): 0.8846 mA\n",
      "Stage 2 input capacitance (C_in_stage2): 844.71 pF\n",
      "Stage 1 required current (I_req_stage1): 19611.4130 mA\n",
      "Total required current (I_req_total): 19612.2976 mA\n",
      "Stage 2 required current (I_req_stage2): 0.7884 mA\n",
      "Stage 2 input capacitance (C_in_stage2): 752.85 pF\n",
      "Stage 1 required current (I_req_stage1): 17478.6902 mA\n",
      "Total required current (I_req_total): 17479.4786 mA\n",
      "Stage 2 required current (I_req_stage2): 0.7026 mA\n",
      "Stage 2 input capacitance (C_in_stage2): 670.98 pF\n",
      "Stage 1 required current (I_req_stage1): 15577.8991 mA\n",
      "Total required current (I_req_total): 15578.6017 mA\n",
      "Stage 2 required current (I_req_stage2): 0.6262 mA\n",
      "Stage 2 input capacitance (C_in_stage2): 598.01 pF\n",
      "Stage 1 required current (I_req_stage1): 13883.8172 mA\n",
      "Total required current (I_req_total): 13884.4434 mA\n",
      "Stage 2 required current (I_req_stage2): 0.5581 mA\n",
      "Stage 2 input capacitance (C_in_stage2): 532.98 pF\n",
      "Stage 1 required current (I_req_stage1): 12373.9651 mA\n",
      "Total required current (I_req_total): 12374.5232 mA\n",
      "Stage 2 required current (I_req_stage2): 0.4974 mA\n",
      "Stage 2 input capacitance (C_in_stage2): 475.02 pF\n",
      "Stage 1 required current (I_req_stage1): 11028.3080 mA\n",
      "Total required current (I_req_total): 11028.8054 mA\n",
      "Stage 2 required current (I_req_stage2): 0.4433 mA\n",
      "Stage 2 input capacitance (C_in_stage2): 423.36 pF\n",
      "Stage 1 required current (I_req_stage1): 9828.9898 mA\n",
      "Total required current (I_req_total): 9829.4332 mA\n",
      "Stage 2 required current (I_req_stage2): 0.3951 mA\n",
      "Stage 2 input capacitance (C_in_stage2): 377.32 pF\n",
      "Stage 1 required current (I_req_stage1): 8760.0964 mA\n",
      "Total required current (I_req_total): 8760.4915 mA\n",
      "Stage 2 required current (I_req_stage2): 0.3522 mA\n",
      "Stage 2 input capacitance (C_in_stage2): 336.29 pF\n",
      "Stage 1 required current (I_req_stage1): 7807.4441 mA\n",
      "Total required current (I_req_total): 7807.7963 mA\n",
      "Stage 2 required current (I_req_stage2): 0.3139 mA\n",
      "Stage 2 input capacitance (C_in_stage2): 299.72 pF\n",
      "Stage 1 required current (I_req_stage1): 6958.3919 mA\n",
      "Total required current (I_req_total): 6958.7058 mA\n",
      "Stage 2 required current (I_req_stage2): 0.2797 mA\n",
      "Stage 2 input capacitance (C_in_stage2): 267.12 pF\n",
      "Stage 1 required current (I_req_stage1): 6201.6733 mA\n",
      "Total required current (I_req_total): 6201.9530 mA\n",
      "Stage 2 required current (I_req_stage2): 0.2493 mA\n",
      "Stage 2 input capacitance (C_in_stage2): 238.07 pF\n",
      "Stage 1 required current (I_req_stage1): 5527.2472 mA\n",
      "Total required current (I_req_total): 5527.4965 mA\n",
      "Stage 2 required current (I_req_stage2): 0.2222 mA\n",
      "Stage 2 input capacitance (C_in_stage2): 212.18 pF\n",
      "Stage 1 required current (I_req_stage1): 4926.1642 mA\n",
      "Total required current (I_req_total): 4926.3864 mA\n",
      "Stage 2 required current (I_req_stage2): 0.1980 mA\n",
      "Stage 2 input capacitance (C_in_stage2): 189.11 pF\n",
      "Stage 1 required current (I_req_stage1): 4390.4485 mA\n",
      "Total required current (I_req_total): 4390.6465 mA\n",
      "Stage 2 required current (I_req_stage2): 0.1765 mA\n",
      "Stage 2 input capacitance (C_in_stage2): 168.54 pF\n",
      "Stage 1 required current (I_req_stage1): 3912.9913 mA\n",
      "Total required current (I_req_total): 3913.1678 mA\n",
      "Stage 2 required current (I_req_stage2): 0.1573 mA\n",
      "Stage 2 input capacitance (C_in_stage2): 150.21 pF\n",
      "Stage 1 required current (I_req_stage1): 3487.4572 mA\n",
      "Total required current (I_req_total): 3487.6145 mA\n",
      "Stage 2 required current (I_req_stage2): 0.1402 mA\n",
      "Stage 2 input capacitance (C_in_stage2): 133.88 pF\n",
      "Stage 1 required current (I_req_stage1): 3108.1995 mA\n",
      "Total required current (I_req_total): 3108.3397 mA\n",
      "Stage 2 required current (I_req_stage2): 0.1249 mA\n",
      "Stage 2 input capacitance (C_in_stage2): 119.32 pF\n",
      "Stage 1 required current (I_req_stage1): 2770.1857 mA\n",
      "Total required current (I_req_total): 2770.3107 mA\n",
      "Stage 2 required current (I_req_stage2): 0.1114 mA\n",
      "Stage 2 input capacitance (C_in_stage2): 106.34 pF\n",
      "Stage 1 required current (I_req_stage1): 2468.9306 mA\n",
      "Total required current (I_req_total): 2469.0420 mA\n",
      "Stage 2 required current (I_req_stage2): 0.0993 mA\n",
      "Stage 2 input capacitance (C_in_stage2): 94.78 pF\n",
      "Stage 1 required current (I_req_stage1): 2200.4367 mA\n",
      "Total required current (I_req_total): 2200.5360 mA\n",
      "Stage 2 required current (I_req_stage2): 0.0885 mA\n",
      "Stage 2 input capacitance (C_in_stage2): 84.47 pF\n",
      "Stage 1 required current (I_req_stage1): 1961.1413 mA\n",
      "Total required current (I_req_total): 1961.2298 mA\n",
      "Stage 2 required current (I_req_stage2): 0.0788 mA\n",
      "Stage 2 input capacitance (C_in_stage2): 75.29 pF\n",
      "Stage 1 required current (I_req_stage1): 1747.8690 mA\n",
      "Total required current (I_req_total): 1747.9479 mA\n",
      "Stage 2 required current (I_req_stage2): 0.0703 mA\n",
      "Stage 2 input capacitance (C_in_stage2): 67.10 pF\n",
      "Stage 1 required current (I_req_stage1): 1557.7899 mA\n",
      "Total required current (I_req_total): 1557.8602 mA\n",
      "Stage 2 required current (I_req_stage2): 0.0626 mA\n",
      "Stage 2 input capacitance (C_in_stage2): 59.80 pF\n",
      "Stage 1 required current (I_req_stage1): 1388.3817 mA\n",
      "Total required current (I_req_total): 1388.4443 mA\n",
      "Stage 2 required current (I_req_stage2): 0.0558 mA\n",
      "Stage 2 input capacitance (C_in_stage2): 53.30 pF\n",
      "Stage 1 required current (I_req_stage1): 1237.3965 mA\n",
      "Total required current (I_req_total): 1237.4523 mA\n",
      "Stage 2 required current (I_req_stage2): 0.0497 mA\n",
      "Stage 2 input capacitance (C_in_stage2): 47.50 pF\n",
      "Stage 1 required current (I_req_stage1): 1102.8308 mA\n",
      "Total required current (I_req_total): 1102.8805 mA\n",
      "Stage 2 required current (I_req_stage2): 0.0443 mA\n",
      "Stage 2 input capacitance (C_in_stage2): 42.34 pF\n",
      "Stage 1 required current (I_req_stage1): 982.8990 mA\n",
      "Total required current (I_req_total): 982.9433 mA\n",
      "Stage 2 required current (I_req_stage2): 0.0395 mA\n",
      "Stage 2 input capacitance (C_in_stage2): 37.73 pF\n",
      "Stage 1 required current (I_req_stage1): 876.0096 mA\n",
      "Total required current (I_req_total): 876.0492 mA\n",
      "Stage 2 required current (I_req_stage2): 0.0352 mA\n",
      "Stage 2 input capacitance (C_in_stage2): 33.63 pF\n",
      "Stage 1 required current (I_req_stage1): 780.7444 mA\n",
      "Total required current (I_req_total): 780.7796 mA\n",
      "Stage 2 required current (I_req_stage2): 0.0314 mA\n",
      "Stage 2 input capacitance (C_in_stage2): 29.97 pF\n",
      "Stage 1 required current (I_req_stage1): 695.8392 mA\n",
      "Total required current (I_req_total): 695.8706 mA\n",
      "Stage 2 required current (I_req_stage2): 0.0280 mA\n",
      "Stage 2 input capacitance (C_in_stage2): 26.71 pF\n",
      "Stage 1 required current (I_req_stage1): 620.1673 mA\n",
      "Total required current (I_req_total): 620.1953 mA\n",
      "Stage 2 required current (I_req_stage2): 0.0249 mA\n",
      "Stage 2 input capacitance (C_in_stage2): 23.81 pF\n",
      "Stage 1 required current (I_req_stage1): 552.7247 mA\n",
      "Total required current (I_req_total): 552.7496 mA\n",
      "Stage 2 required current (I_req_stage2): 0.0222 mA\n",
      "Stage 2 input capacitance (C_in_stage2): 21.22 pF\n",
      "Stage 1 required current (I_req_stage1): 492.6164 mA\n",
      "Total required current (I_req_total): 492.6386 mA\n",
      "Stage 2 required current (I_req_stage2): 0.0198 mA\n",
      "Stage 2 input capacitance (C_in_stage2): 18.91 pF\n",
      "Stage 1 required current (I_req_stage1): 439.0448 mA\n",
      "Total required current (I_req_total): 439.0647 mA\n",
      "Stage 2 required current (I_req_stage2): 0.0176 mA\n",
      "Stage 2 input capacitance (C_in_stage2): 16.85 pF\n",
      "Stage 1 required current (I_req_stage1): 391.2991 mA\n",
      "Total required current (I_req_total): 391.3168 mA\n",
      "Stage 2 required current (I_req_stage2): 0.0157 mA\n",
      "Stage 2 input capacitance (C_in_stage2): 15.02 pF\n",
      "Stage 1 required current (I_req_stage1): 348.7457 mA\n",
      "Total required current (I_req_total): 348.7614 mA\n",
      "Stage 2 required current (I_req_stage2): 0.0140 mA\n",
      "Stage 2 input capacitance (C_in_stage2): 13.39 pF\n",
      "Stage 1 required current (I_req_stage1): 310.8199 mA\n",
      "Total required current (I_req_total): 310.8340 mA\n",
      "Stage 2 required current (I_req_stage2): 0.0125 mA\n",
      "Stage 2 input capacitance (C_in_stage2): 11.93 pF\n",
      "Stage 1 required current (I_req_stage1): 277.0186 mA\n",
      "Total required current (I_req_total): 277.0311 mA\n",
      "Stage 2 required current (I_req_stage2): 0.0111 mA\n",
      "Stage 2 input capacitance (C_in_stage2): 10.63 pF\n",
      "Stage 1 required current (I_req_stage1): 246.8931 mA\n",
      "Total required current (I_req_total): 246.9042 mA\n"
     ]
    },
    {
     "data": {
      "image/png": "[encoded data removed]",
      "text/plain": [
       "<Figure size 800x500 with 1 Axes>"
      ]
     },
     "metadata": {},
     "output_type": "display_data"
    },
    {
     "name": "stdout",
     "output_type": "stream",
     "text": [
      "Stage 2 required current (I_req_stage2): 0.9925 mA\n",
      "Stage 2 input capacitance (C_in_stage2): 947.78 pF\n",
      "Stage 1 required current (I_req_stage1): 22004.3673 mA\n",
      "Total required current (I_req_total): 22005.3598 mA\n",
      "Stage 2 required current (I_req_stage2): 0.8846 mA\n",
      "Stage 2 input capacitance (C_in_stage2): 844.71 pF\n",
      "Stage 1 required current (I_req_stage1): 19611.4130 mA\n",
      "Total required current (I_req_total): 19612.2976 mA\n",
      "Stage 2 required current (I_req_stage2): 0.7884 mA\n",
      "Stage 2 input capacitance (C_in_stage2): 752.85 pF\n",
      "Stage 1 required current (I_req_stage1): 17478.6902 mA\n",
      "Total required current (I_req_total): 17479.4786 mA\n",
      "Stage 2 required current (I_req_stage2): 0.7026 mA\n",
      "Stage 2 input capacitance (C_in_stage2): 670.98 pF\n",
      "Stage 1 required current (I_req_stage1): 15577.8991 mA\n",
      "Total required current (I_req_total): 15578.6017 mA\n",
      "Stage 2 required current (I_req_stage2): 0.6262 mA\n",
      "Stage 2 input capacitance (C_in_stage2): 598.01 pF\n",
      "Stage 1 required current (I_req_stage1): 13883.8172 mA\n",
      "Total required current (I_req_total): 13884.4434 mA\n",
      "Stage 2 required current (I_req_stage2): 0.5581 mA\n",
      "Stage 2 input capacitance (C_in_stage2): 532.98 pF\n",
      "Stage 1 required current (I_req_stage1): 12373.9651 mA\n",
      "Total required current (I_req_total): 12374.5232 mA\n",
      "Stage 2 required current (I_req_stage2): 0.4974 mA\n",
      "Stage 2 input capacitance (C_in_stage2): 475.02 pF\n",
      "Stage 1 required current (I_req_stage1): 11028.3080 mA\n",
      "Total required current (I_req_total): 11028.8054 mA\n",
      "Stage 2 required current (I_req_stage2): 0.4433 mA\n",
      "Stage 2 input capacitance (C_in_stage2): 423.36 pF\n",
      "Stage 1 required current (I_req_stage1): 9828.9898 mA\n",
      "Total required current (I_req_total): 9829.4332 mA\n",
      "Stage 2 required current (I_req_stage2): 0.3951 mA\n",
      "Stage 2 input capacitance (C_in_stage2): 377.32 pF\n",
      "Stage 1 required current (I_req_stage1): 8760.0964 mA\n",
      "Total required current (I_req_total): 8760.4915 mA\n",
      "Stage 2 required current (I_req_stage2): 0.3522 mA\n",
      "Stage 2 input capacitance (C_in_stage2): 336.29 pF\n",
      "Stage 1 required current (I_req_stage1): 7807.4441 mA\n",
      "Total required current (I_req_total): 7807.7963 mA\n",
      "Stage 2 required current (I_req_stage2): 0.3139 mA\n",
      "Stage 2 input capacitance (C_in_stage2): 299.72 pF\n",
      "Stage 1 required current (I_req_stage1): 6958.3919 mA\n",
      "Total required current (I_req_total): 6958.7058 mA\n",
      "Stage 2 required current (I_req_stage2): 0.2797 mA\n",
      "Stage 2 input capacitance (C_in_stage2): 267.12 pF\n",
      "Stage 1 required current (I_req_stage1): 6201.6733 mA\n",
      "Total required current (I_req_total): 6201.9530 mA\n",
      "Stage 2 required current (I_req_stage2): 0.2493 mA\n",
      "Stage 2 input capacitance (C_in_stage2): 238.07 pF\n",
      "Stage 1 required current (I_req_stage1): 5527.2472 mA\n",
      "Total required current (I_req_total): 5527.4965 mA\n",
      "Stage 2 required current (I_req_stage2): 0.2222 mA\n",
      "Stage 2 input capacitance (C_in_stage2): 212.18 pF\n",
      "Stage 1 required current (I_req_stage1): 4926.1642 mA\n",
      "Total required current (I_req_total): 4926.3864 mA\n",
      "Stage 2 required current (I_req_stage2): 0.1980 mA\n",
      "Stage 2 input capacitance (C_in_stage2): 189.11 pF\n",
      "Stage 1 required current (I_req_stage1): 4390.4485 mA\n",
      "Total required current (I_req_total): 4390.6465 mA\n",
      "Stage 2 required current (I_req_stage2): 0.1765 mA\n",
      "Stage 2 input capacitance (C_in_stage2): 168.54 pF\n",
      "Stage 1 required current (I_req_stage1): 3912.9913 mA\n",
      "Total required current (I_req_total): 3913.1678 mA\n",
      "Stage 2 required current (I_req_stage2): 0.1573 mA\n",
      "Stage 2 input capacitance (C_in_stage2): 150.21 pF\n",
      "Stage 1 required current (I_req_stage1): 3487.4572 mA\n",
      "Total required current (I_req_total): 3487.6145 mA\n",
      "Stage 2 required current (I_req_stage2): 0.1402 mA\n",
      "Stage 2 input capacitance (C_in_stage2): 133.88 pF\n",
      "Stage 1 required current (I_req_stage1): 3108.1995 mA\n",
      "Total required current (I_req_total): 3108.3397 mA\n",
      "Stage 2 required current (I_req_stage2): 0.1249 mA\n",
      "Stage 2 input capacitance (C_in_stage2): 119.32 pF\n",
      "Stage 1 required current (I_req_stage1): 2770.1857 mA\n",
      "Total required current (I_req_total): 2770.3107 mA\n",
      "Stage 2 required current (I_req_stage2): 0.1114 mA\n",
      "Stage 2 input capacitance (C_in_stage2): 106.34 pF\n",
      "Stage 1 required current (I_req_stage1): 2468.9306 mA\n",
      "Total required current (I_req_total): 2469.0420 mA\n",
      "Stage 2 required current (I_req_stage2): 0.0993 mA\n",
      "Stage 2 input capacitance (C_in_stage2): 94.78 pF\n",
      "Stage 1 required current (I_req_stage1): 2200.4367 mA\n",
      "Total required current (I_req_total): 2200.5360 mA\n",
      "Stage 2 required current (I_req_stage2): 0.0885 mA\n",
      "Stage 2 input capacitance (C_in_stage2): 84.47 pF\n",
      "Stage 1 required current (I_req_stage1): 1961.1413 mA\n",
      "Total required current (I_req_total): 1961.2298 mA\n",
      "Stage 2 required current (I_req_stage2): 0.0788 mA\n",
      "Stage 2 input capacitance (C_in_stage2): 75.29 pF\n",
      "Stage 1 required current (I_req_stage1): 1747.8690 mA\n",
      "Total required current (I_req_total): 1747.9479 mA\n",
      "Stage 2 required current (I_req_stage2): 0.0703 mA\n",
      "Stage 2 input capacitance (C_in_stage2): 67.10 pF\n",
      "Stage 1 required current (I_req_stage1): 1557.7899 mA\n",
      "Total required current (I_req_total): 1557.8602 mA\n",
      "Stage 2 required current (I_req_stage2): 0.0626 mA\n",
      "Stage 2 input capacitance (C_in_stage2): 59.80 pF\n",
      "Stage 1 required current (I_req_stage1): 1388.3817 mA\n",
      "Total required current (I_req_total): 1388.4443 mA\n",
      "Stage 2 required current (I_req_stage2): 0.0558 mA\n",
      "Stage 2 input capacitance (C_in_stage2): 53.30 pF\n",
      "Stage 1 required current (I_req_stage1): 1237.3965 mA\n",
      "Total required current (I_req_total): 1237.4523 mA\n",
      "Stage 2 required current (I_req_stage2): 0.0497 mA\n",
      "Stage 2 input capacitance (C_in_stage2): 47.50 pF\n",
      "Stage 1 required current (I_req_stage1): 1102.8308 mA\n",
      "Total required current (I_req_total): 1102.8805 mA\n",
      "Stage 2 required current (I_req_stage2): 0.0443 mA\n",
      "Stage 2 input capacitance (C_in_stage2): 42.34 pF\n",
      "Stage 1 required current (I_req_stage1): 982.8990 mA\n",
      "Total required current (I_req_total): 982.9433 mA\n",
      "Stage 2 required current (I_req_stage2): 0.0395 mA\n",
      "Stage 2 input capacitance (C_in_stage2): 37.73 pF\n",
      "Stage 1 required current (I_req_stage1): 876.0096 mA\n",
      "Total required current (I_req_total): 876.0492 mA\n",
      "Stage 2 required current (I_req_stage2): 0.0352 mA\n",
      "Stage 2 input capacitance (C_in_stage2): 33.63 pF\n",
      "Stage 1 required current (I_req_stage1): 780.7444 mA\n",
      "Total required current (I_req_total): 780.7796 mA\n",
      "Stage 2 required current (I_req_stage2): 0.0314 mA\n",
      "Stage 2 input capacitance (C_in_stage2): 29.97 pF\n",
      "Stage 1 required current (I_req_stage1): 695.8392 mA\n",
      "Total required current (I_req_total): 695.8706 mA\n",
      "Stage 2 required current (I_req_stage2): 0.0280 mA\n",
      "Stage 2 input capacitance (C_in_stage2): 26.71 pF\n",
      "Stage 1 required current (I_req_stage1): 620.1673 mA\n",
      "Total required current (I_req_total): 620.1953 mA\n",
      "Stage 2 required current (I_req_stage2): 0.0249 mA\n",
      "Stage 2 input capacitance (C_in_stage2): 23.81 pF\n",
      "Stage 1 required current (I_req_stage1): 552.7247 mA\n",
      "Total required current (I_req_total): 552.7496 mA\n",
      "Stage 2 required current (I_req_stage2): 0.0222 mA\n",
      "Stage 2 input capacitance (C_in_stage2): 21.22 pF\n",
      "Stage 1 required current (I_req_stage1): 492.6164 mA\n",
      "Total required current (I_req_total): 492.6386 mA\n",
      "Stage 2 required current (I_req_stage2): 0.0198 mA\n",
      "Stage 2 input capacitance (C_in_stage2): 18.91 pF\n",
      "Stage 1 required current (I_req_stage1): 439.0448 mA\n",
      "Total required current (I_req_total): 439.0647 mA\n",
      "Stage 2 required current (I_req_stage2): 0.0176 mA\n",
      "Stage 2 input capacitance (C_in_stage2): 16.85 pF\n",
      "Stage 1 required current (I_req_stage1): 391.2991 mA\n",
      "Total required current (I_req_total): 391.3168 mA\n",
      "Stage 2 required current (I_req_stage2): 0.0157 mA\n",
      "Stage 2 input capacitance (C_in_stage2): 15.02 pF\n",
      "Stage 1 required current (I_req_stage1): 348.7457 mA\n",
      "Total required current (I_req_total): 348.7614 mA\n",
      "Stage 2 required current (I_req_stage2): 0.0140 mA\n",
      "Stage 2 input capacitance (C_in_stage2): 13.39 pF\n",
      "Stage 1 required current (I_req_stage1): 310.8199 mA\n",
      "Total required current (I_req_total): 310.8340 mA\n",
      "Stage 2 required current (I_req_stage2): 0.0125 mA\n",
      "Stage 2 input capacitance (C_in_stage2): 11.93 pF\n",
      "Stage 1 required current (I_req_stage1): 277.0186 mA\n",
      "Total required current (I_req_total): 277.0311 mA\n",
      "Stage 2 required current (I_req_stage2): 0.0111 mA\n",
      "Stage 2 input capacitance (C_in_stage2): 10.63 pF\n",
      "Stage 1 required current (I_req_stage1): 246.8931 mA\n",
      "Total required current (I_req_total): 246.9042 mA\n"
     ]
    },
    {
     "data": {
      "image/png": "[encoded data removed]",
      "text/plain": [
       "<Figure size 800x500 with 1 Axes>"
      ]
     },
     "metadata": {},
     "output_type": "display_data"
    },
    {
     "data": {
      "image/png": "[encoded data removed]",
      "text/plain": [
       "<Figure size 800x500 with 1 Axes>"
      ]
     },
     "metadata": {},
     "output_type": "display_data"
    }
   ],
   "source": [
    "I_budget = (5/100) * I_load  # 5% of I_load\n",
    "\n",
    "PSRR_sweep = np.arange(-40, 0, 1)\n",
    "I_total_list = []\n",
    "for psrr_db in PSRR_sweep:\n",
    "    res = estimate_amplifier_stages(csv_file, psrr_db, I_budget, kgm_max)\n",
    "    I_total_list.append(res['I_req_total'])\n",
    "\n",
    "plt.figure(figsize=(8,5))\n",
    "plt.plot(PSRR_sweep, np.array(I_total_list)*1e3, marker='o')\n",
    "plt.hlines(I_budget*1e3, PSRR_sweep[0], PSRR_sweep[-1], color='r', linestyle='--', label='I_budget (5% of I_load)')\n",
    "plt.yscale('log')\n",
    "plt.xlabel('PSRR Target (dB)')\n",
    "plt.ylabel('Total I_required (mA)')\n",
    "plt.title('Total Amplifier Current vs PSRR Target')\n",
    "plt.legend()\n",
    "plt.grid(True)\n",
    "plt.show()\n",
    "\n",
    "I_req_stage1_list = []\n",
    "I_req_stage2_list = []\n",
    "\n",
    "for psrr_db in PSRR_sweep:\n",
    "    res = estimate_amplifier_stages(csv_file, psrr_db, I_budget, kgm_max)\n",
    "    I_req_stage1_list.append(res['I_req_stage1'])\n",
    "    I_req_stage2_list.append(res['I_req_stage2'])\n",
    "\n",
    "plt.figure(figsize=(8,5))\n",
    "plt.plot(PSRR_sweep, np.array(I_req_stage1_list)*1e3, marker='o', label='I_req_stage1')\n",
    "plt.hlines(I_budget*1e3, PSRR_sweep[0], PSRR_sweep[-1], color='r', linestyle='--', label='I_budget (5% of I_load)')\n",
    "plt.yscale('log')\n",
    "plt.xlabel('PSRR Target (dB)')\n",
    "plt.ylabel('I_req_stage1 (mA)')\n",
    "plt.title('Stage 1 Amplifier Current vs PSRR Target')\n",
    "plt.legend()\n",
    "plt.grid(True)\n",
    "plt.show()\n",
    "\n",
    "plt.figure(figsize=(8,5))\n",
    "plt.plot(PSRR_sweep, np.array(I_req_stage2_list)*1e3, marker='o', label='I_req_stage2')\n",
    "plt.hlines(I_budget*1e3, PSRR_sweep[0], PSRR_sweep[-1], color='r', linestyle='--', label='I_budget (5% of I_load)')\n",
    "plt.yscale('log')\n",
    "plt.xlabel('PSRR Target (dB)')\n",
    "plt.ylabel('I_req_stage2 (mA)')\n",
    "plt.title('Stage 2 Amplifier Current vs PSRR Target')\n",
    "plt.legend()\n",
    "plt.grid(True)\n",
    "plt.show()"
   ]
  },
  {
   "cell_type": "markdown",
   "id": "4661d3d1",
   "metadata": {},
   "source": [
    "### Next step --> streamline the python script\n",
    "\n",
    "1. Define PSRR_target,f_bw, PM_target, C_load\n",
    "2. Estimate GBW1_target, GBW2_target \n",
    "3. Pass this to the feasibility script"
   ]
  },
  {
   "cell_type": "code",
   "execution_count": 303,
   "id": "7f05d1ab",
   "metadata": {},
   "outputs": [],
   "source": [
    "def estimate_GBW_stages(PSRR_target_dB, f_bw, PM_target, C_load, Av_2=1, k_res_div=3/4, Av_pass=25):\n",
    "    \"\"\"\n",
    "    Estimate the required GBW for stage 1 and stage 2 of the amplifier.\n",
    "\n",
    "    Args:\n",
    "        PSRR_target_dB (float or int): PSRR target in dB (negative value).\n",
    "        f_bw (float): Desired closed-loop bandwidth (Hz).\n",
    "        PM_target (float or int): Phase margin target (degrees).\n",
    "        C_load (float): Load capacitance for stage 2 (F).\n",
    "        Av_2 (float): Gain of stage 2 (default: 1).\n",
    "        k_res_div (float): Resistive divider ratio (default: 3/4).\n",
    "\n",
    "    Returns:\n",
    "        tuple: (GBW_stage1, GBW_stage2) in Hz\n",
    "    \"\"\"\n",
    "    # Convert PSRR from dB to linear\n",
    "    PSRR_target = 10**(PSRR_target_dB / 20)\n",
    "    # Unity-gain frequency for the amplifier\n",
    "    f_u = (1 / PSRR_target) * f_bw\n",
    "    # Second pole location for phase margin\n",
    "    f_p2 = f_u * np.tan(np.radians(PM_target))\n",
    "    # Third pole location for stability\n",
    "    f_p3 = f_p2 * 2\n",
    "\n",
    "    # Stage 2 gain (Av_2) is determined by system requirements; here, assume unity due to architecture choice\n",
    "    Av_2 = 1  # If you want to use a specific Av_1, pass as argument\n",
    "\n",
    "    Av_1 = (1 / PSRR_target) * (1 / Av_2) * (1/k_res_div) * (1/Av_pass)\n",
    "\n",
    "    GBW_stage1 = Av_1 * f_p2\n",
    "    GBW_stage2 = Av_2 * f_p3\n",
    "\n",
    "\n",
    "    return GBW_stage1, GBW_stage2"
   ]
  },
  {
   "cell_type": "code",
   "execution_count": 304,
   "id": "2cde0c86",
   "metadata": {},
   "outputs": [
    {
     "name": "stdout",
     "output_type": "stream",
     "text": [
      "Estimated GBW_stage1: 0.92 GHz\n",
      "Estimated GBW_stage2: 0.35 GHz\n"
     ]
    }
   ],
   "source": [
    "# Test the estimate_GBW_stages function using available variables\n",
    "\n",
    "PSRR_target_dB = -40\n",
    "f_bw = 1e6\n",
    "PM_target = 60\n",
    "C_load = 11.4e-12\n",
    "\n",
    "GBW_stage1, GBW_stage2 = estimate_GBW_stages(PSRR_target_dB, f_bw, PM_target, C_load)\n",
    "\n",
    "print(f\"Estimated GBW_stage1: {GBW_stage1*1e-9:.2f} GHz\")\n",
    "print(f\"Estimated GBW_stage2: {GBW_stage2*1e-9:.2f} GHz\")"
   ]
  },
  {
   "cell_type": "code",
   "execution_count": 305,
   "id": "a08f71e6",
   "metadata": {},
   "outputs": [],
   "source": [
    "## Calling the function from LDO_functions.py\n",
    "from LDO_functions import estimate_amplifier_stages, estimate_GBW_stages\n",
    "# Test the functions using available variables\n",
    "csv_file = \"sf_nmos_char_vg_1_3.csv\"\n",
    "PSRR_target_dB = -40\n",
    "f_bw = 1e6\n",
    "PM_target = 60\n",
    "C_load = 11.4e-12\n",
    "kgm_max = 25\n"
   ]
  },
  {
   "cell_type": "code",
   "execution_count": 306,
   "id": "13397420",
   "metadata": {},
   "outputs": [
    {
     "name": "stdout",
     "output_type": "stream",
     "text": [
      "Estimated GBW_stage1: 0.92 GHz\n",
      "Estimated GBW_stage2: 0.35 GHz\n"
     ]
    }
   ],
   "source": [
    "GBW_stage1, GBW_stage2 = estimate_GBW_stages(PSRR_target_dB, f_bw, PM_target, C_load)\n",
    "\n",
    "print(f\"Estimated GBW_stage1: {GBW_stage1*1e-9:.2f} GHz\")\n",
    "print(f\"Estimated GBW_stage2: {GBW_stage2*1e-9:.2f} GHz\")"
   ]
  },
  {
   "cell_type": "code",
   "execution_count": 307,
   "id": "8c3d23d7",
   "metadata": {},
   "outputs": [
    {
     "name": "stdout",
     "output_type": "stream",
     "text": [
      "Stage 2 required current (I_req_stage2): 3.1416 mA\n",
      "Stage 2 input capacitance (C_in_stage2): 3000.02 pF\n",
      "Stage 1 required current (I_req_stage1): -0.0000 mA\n",
      "Total required current (I_req_total): 3.1416 mA\n",
      "Amplifier stages estimation (test):\n",
      "I_req_stage2: 3.1416e-03\n",
      "C_in_stage2: 3.0000e-09\n",
      "I_req_stage1: -3.0159e-08\n",
      "I_req_total: 3.1416e-03\n",
      "details_stage2: {'idx_kgm': 9, 'kgm': np.float64(25.00386507127838), 'kcsg_n': np.float64(3.514438674718297e-07), 'kcgd_n': np.float64(3.017461437348191e-07), 'cgs': np.float64(1.1040934721986852e-09), 'cgd': np.float64(9.479634684063574e-10), 'C_in': np.float64(3.0000204090114e-09)}\n"
     ]
    }
   ],
   "source": [
    "# Estimate amplifier stages using the current test parameters\n",
    "result_test = estimate_amplifier_stages(csv_file, PSRR_target_dB, I_budget, kgm_max)\n",
    "print(\"Amplifier stages estimation (test):\")\n",
    "for k, v in result_test.items():\n",
    "    if isinstance(v, float) or isinstance(v, np.floating):\n",
    "        print(f\"{k}: {v:.4e}\")\n",
    "    else:\n",
    "        print(f\"{k}: {v}\")"
   ]
  },
  {
   "cell_type": "markdown",
   "id": "74292e7c",
   "metadata": {},
   "source": [
    "## Next Steps\n",
    "1. Writing a function to estimate k_res_div, R_L and Av_pass\n",
    "2. Writing a function to estimate C_in of pass transistor"
   ]
  },
  {
   "cell_type": "code",
   "execution_count": 308,
   "id": "b2a0cdc8",
   "metadata": {},
   "outputs": [
    {
     "name": "stdout",
     "output_type": "stream",
     "text": [
      "Total current through the PMOS pass transistor (I_pmos): 10.10 mA\n",
      "M_scale where ids is closest to 10mA and Vd is closest to 1.2V: 888.6238\n",
      "gm_p at M_scale 888.6238: 85.457 mS\n",
      "gds_p at M_scale 888.6238: 3.400 mS\n",
      "Av_pass at M_scale 888.6238: 25.14 V/V\n",
      "kcgd_p at M_scale 888.6238: 386.141 fF\n",
      "kcgs_p at M_scale 888.6238: 948.920 fF\n",
      "Effective Input Capacitance at I_min including Miller effect: 11.041 pF\n"
     ]
    }
   ],
   "source": [
    "Av_pass = 25\n",
    "I_load = 10e-3\n",
    "I_res_div = (1/100) * I_load\n",
    "I_pmos = I_load + I_res_div\n",
    "print(f\"Total current through the PMOS pass transistor (I_pmos): {I_pmos*1e3:.2f} mA\")\n",
    "pmos_pass_char_csv = 'ldo_pmos_kgm_char_Msweep_10mA.csv'\n",
    "\n",
    "param_master = pd.read_csv(pmos_pass_char_csv)\n",
    "\n",
    "kgm_p = np.abs(param_master['kgmp Y'])\n",
    "kcsg_p = np.abs(param_master['kcgs Y'])\n",
    "kcgd_p = np.abs(param_master['kcgd Y'])\n",
    "kgds_p = np.abs(param_master['kgds Y'])\n",
    "ids = np.abs(param_master['ids Y'])\n",
    "M_scale = np.abs(param_master['kgmp X']) \n",
    "vd = np.abs(param_master['vd Y'])\n",
    "\n",
    "# Find index where both ids is closest to 10mA and vd is closest to 1.2V\n",
    "idx_both = ((ids - 0.01).abs() + (vd - 1.2).abs()).idxmin()\n",
    "M_scale_both = M_scale.loc[idx_both]\n",
    "\n",
    "print(f\"M_scale where ids is closest to 10mA and Vd is closest to 1.2V: {M_scale_both:.4f}\")\n",
    "\n",
    "\n",
    "## Estimating gm and gds at M_scale_both\n",
    "kgm_interp = interp1d(M_scale, kgm_p, kind='linear', fill_value='extrapolate')\n",
    "gm_p_both = float(kgm_interp(M_scale_both)) * I_pmos  # in Siemens\n",
    "print(f\"gm_p at M_scale {M_scale_both:.4f}: {gm_p_both*1e3:.3f} mS\")\n",
    "kgds_interp = interp1d(M_scale, kgds_p, kind='linear', fill_value='extrapolate')\n",
    "gds_p_both = float(kgds_interp(M_scale_both)) * I_pmos  # in Siemens\n",
    "print(f\"gds_p at M_scale {M_scale_both:.4f}: {gds_p_both*1e3:.3f} mS\")  # in Siemens\n",
    "\n",
    "Av_pass_both = gm_p_both / gds_p_both\n",
    "print(f\"Av_pass at M_scale {M_scale_both:.4f}: {Av_pass_both:.2f} V/V\")\n",
    "\n",
    "## Estimating the caps at M_scale_both\n",
    "kcgd_interp = interp1d(M_scale, kcgd_p, kind='linear', fill_value='extrapolate')\n",
    "cgd_p_both = float(kcgd_interp(M_scale_both)) * 0.01  # in Farads\n",
    "print(f\"kcgd_p at M_scale {M_scale_both:.4f}: {cgd_p_both*1e15:.3f} fF\")\n",
    "kcgs_interp = interp1d(M_scale, kcsg_p, kind='linear', fill_value='extrapolate')\n",
    "cgs_p_both = float(kcgs_interp(M_scale_both)) * 0.01  # in Farads\n",
    "print(f\"kcgs_p at M_scale {M_scale_both:.4f}: {cgs_p_both*1e15:.3f} fF\")\n",
    "\n",
    "C_in_pass = cgs_p_both + cgd_p_both * (1 + Av_pass_both)\n",
    "print(f\"Effective Input Capacitance at I_min including Miller effect: {C_in_pass*1e12:.3f} pF\")\n"
   ]
  },
  {
   "cell_type": "code",
   "execution_count": 320,
   "id": "6cb6f130",
   "metadata": {},
   "outputs": [],
   "source": [
    "def estimate_pass_pmos_parameters(csv_file, I_load, I_res_div, Vout_LDO, Vctrl, f_bw, C_out):\n",
    "    \"\"\"\n",
    "    Estimate the effective input capacitance (including Miller effect) of the PMOS pass transistor.\n",
    "\n",
    "    Args:\n",
    "        csv_file (str): Path to the CSV file with device parameters.\n",
    "        I_load (float): Load current (A).\n",
    "        I_res_div (float): Current through the resistor divider (A).\n",
    "        Vout_LDO (float): Output voltage of the LDO (V).\n",
    "        Vctrl (float): Control voltage for error amplifer (V).\n",
    "        f_bw (float): Bandwidth frequency (Hz).\n",
    "        C_out (float): Output capacitance (F).\n",
    "\n",
    "    Returns:\n",
    "        float: Effective input capacitance (F).\n",
    "        dict: Details at the selected operating point.\n",
    "    \"\"\"\n",
    "    param_master = pd.read_csv(csv_file)\n",
    "\n",
    "    kgm_p = np.abs(param_master['kgmp Y'])\n",
    "    kcsg_p = np.abs(param_master['kcgs Y'])\n",
    "    kcgd_p = np.abs(param_master['kcgd Y'])\n",
    "    kgds_p = np.abs(param_master['kgds Y'])\n",
    "    ids = np.abs(param_master['ids Y'])\n",
    "    M_scale = np.abs(param_master['kgmp X'])\n",
    "    vd = np.abs(param_master['vd Y'])\n",
    "\n",
    "\n",
    "    R_res_div = Vout_LDO / I_res_div\n",
    "    print(f\"Resistor Divider Resistance (R_res_div) for 1% current overhead at I_max: {R_res_div:.2f} Ohms\")\n",
    "\n",
    "    I_total = I_load + I_res_div\n",
    "    print(f\"Total current through the PMOS pass transistor (I_total): {I_total*1e3:.2f} mA\")\n",
    "    \n",
    "    # Find index where both ids is closest to I_total and vd is closest to 1.2V\n",
    "    idx_both = ((ids - I_total).abs() + (vd - 1.2).abs()).idxmin()\n",
    "    M_scale_both = M_scale.loc[idx_both]\n",
    "\n",
    "    # Interpolate caps at M_scale_both\n",
    "    kcgd_interp = interp1d(M_scale, kcgd_p, kind='linear', fill_value='extrapolate')\n",
    "    cgd_p_both = float(kcgd_interp(M_scale_both)) * I_total\n",
    "    kcgs_interp = interp1d(M_scale, kcsg_p, kind='linear', fill_value='extrapolate')\n",
    "    cgs_p_both = float(kcgs_interp(M_scale_both)) * I_total\n",
    "\n",
    "    # Interpolate gm and gds at M_scale_both\n",
    "    kgm_interp = interp1d(M_scale, kgm_p, kind='linear', fill_value='extrapolate')\n",
    "    gm_p_both = float(kgm_interp(M_scale_both)) * I_total\n",
    "    kgds_interp = interp1d(M_scale, kgds_p, kind='linear', fill_value='extrapolate')\n",
    "    gds_p_both = float(kgds_interp(M_scale_both)) * I_total\n",
    "\n",
    "    Av_pass_both = gm_p_both / gds_p_both\n",
    "    R_L_eff = 1 / (1/R_res_div + gds_p_both)\n",
    "    print(f\"Effective Load Resistance (R_L_eff) considering Rds: {R_L_eff:.2f} Ohms\")\n",
    "\n",
    "    C_load_eff = C_out + cgd_p_both * (1 + (1 / Av_pass_both))  # Effective load capacitance including Miller effect\n",
    "    print(f\"Effective Load Capacitance at I_min: {C_load_eff*1e12:.3f} pF\")\n",
    "\n",
    "    # Estimate R_L required to meet the bandwidth target\n",
    "    R_L_bw = 1 / (2 * np.pi * f_bw * C_load_eff)\n",
    "    print(f\"Load Resistance (R_L) required for bandwidth target {f_bw:.1f} Hz: {R_L_bw:.2f} Ohms\")\n",
    "\n",
    "    # Min current overhead for resistor divider\n",
    "    R_res_div_max = max(R_res_div, R_L_bw)\n",
    "    print(f\"Using Resistor Divider Resistance (R_res_div): {R_res_div_max:.2f} Ohms\")\n",
    "\n",
    "    # Estimating the gain with the right R_eff\n",
    "    R_L_eff = 1 / (1/R_res_div_max + gds_p_both)\n",
    "    Av_pass = gm_p_both * R_L_eff\n",
    "    print(f\"Av_pass at I_total {I_total*1e3:.2f} mA: {Av_pass:.2f} V/V\")\n",
    "\n",
    "\n",
    "    # Effective input capacitance including Miller effect\n",
    "    C_in_pass = cgs_p_both + cgd_p_both * (1 + Av_pass)\n",
    "\n",
    "    k_res_div = Vctrl/Vout_LDO\n",
    "\n",
    "    details = {\n",
    "        'idx_both': idx_both,\n",
    "        'M_scale_both': M_scale_both,\n",
    "        'gm_p_both': gm_p_both,\n",
    "        'gds_p_both': gds_p_both,\n",
    "        'Av_pass': Av_pass,\n",
    "        'cgs_p_both': cgs_p_both,\n",
    "        'cgd_p_both': cgd_p_both,\n",
    "        'C_in_pass': C_in_pass,\n",
    "        'k_res_div': k_res_div\n",
    "    }\n",
    "    return C_in_pass, Av_pass, k_res_div, details\n"
   ]
  },
  {
   "cell_type": "code",
   "execution_count": 321,
   "id": "80495964",
   "metadata": {},
   "outputs": [
    {
     "name": "stdout",
     "output_type": "stream",
     "text": [
      "Resistor Divider Resistance (R_res_div) for 1% current overhead at I_max: 12000.00 Ohms\n",
      "Total current through the PMOS pass transistor (I_total): 10.10 mA\n",
      "Effective Load Resistance (R_L_eff) considering Rds: 287.09 Ohms\n",
      "Effective Load Capacitance at I_min: 11.806 pF\n",
      "Load Resistance (R_L) required for bandwidth target 1000000.0 Hz: 13481.40 Ohms\n",
      "Using Resistor Divider Resistance (R_res_div): 13481.40 Ohms\n",
      "Av_pass at I_total 10.10 mA: 24.60 V/V\n",
      "Estimated PMOS pass input capacitance (C_in_pass): 10.942 pF\n",
      "Estimated Av_pass: 24.60 V/V\n",
      "Estimated k_res_div: 0.750\n",
      "Details at selected operating point: {'idx_both': 37, 'M_scale_both': np.float64(888.6238), 'gm_p_both': 0.08545695121176254, 'gds_p_both': 0.00339990126252592, 'Av_pass': 24.59845831341271, 'cgs_p_both': 9.584087714018672e-13, 'cgd_p_both': 3.9000281653674036e-13, 'C_in_pass': 1.094187961263116e-11, 'k_res_div': 0.75}\n"
     ]
    }
   ],
   "source": [
    "# Test for estimate_pass_pmos_parameters using available variables\n",
    "\n",
    "# Define test parameters\n",
    "csv_file_pmos = pmos_pass_char_csv  # 'ldo_pmos_kgm_char_Msweep_10mA.csv'\n",
    "I_load_test = I_load                # 0.01 (10 mA)\n",
    "I_res_div_test = I_res_div          # 0.0001 (1% of I_load)\n",
    "Vout_LDO_test = V_out               # 1.2 V\n",
    "Vctrl_test = V_ctrl                 # 0.9 V\n",
    "f_bw_test = f_bw                    # 1e6 Hz\n",
    "C_out_test = C_load                 # 1.14e-11 F\n",
    "\n",
    "# Call the function\n",
    "C_in_pass_test, Av_pass_test, k_res_div_test, details_pass = estimate_pass_pmos_parameters(\n",
    "    csv_file_pmos, I_load_test, I_res_div_test, Vout_LDO_test, Vctrl_test, f_bw_test, C_out_test\n",
    ")\n",
    "\n",
    "print(f\"Estimated PMOS pass input capacitance (C_in_pass): {C_in_pass_test*1e12:.3f} pF\")\n",
    "print(f\"Estimated Av_pass: {Av_pass_test:.2f} V/V\")\n",
    "print(f\"Estimated k_res_div: {k_res_div_test:.3f}\")\n",
    "print(\"Details at selected operating point:\", details_pass)"
   ]
  }
 ],
 "metadata": {
  "kernelspec": {
   "display_name": "Python 3",
   "language": "python",
   "name": "python3"
  },
  "language_info": {
   "codemirror_mode": {
    "name": "ipython",
    "version": 3
   },
   "file_extension": ".py",
   "mimetype": "text/x-python",
   "name": "python",
   "nbconvert_exporter": "python",
   "pygments_lexer": "ipython3",
   "version": "3.11.9"
  }
 },
 "nbformat": 4,
 "nbformat_minor": 5
}
