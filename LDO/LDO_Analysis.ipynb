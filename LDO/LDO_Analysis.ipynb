{
 "cells": [
  {
   "cell_type": "code",
   "execution_count": 24,
   "id": "91121325",
   "metadata": {},
   "outputs": [
    {
     "data": {
      "text/html": [
       "<style>\n",
       "    body {\n",
       "        --vscode-font-family: \"ComicSansMS\"\n",
       "    }\n",
       "</style>\n"
      ],
      "text/plain": [
       "<IPython.core.display.HTML object>"
      ]
     },
     "metadata": {},
     "output_type": "display_data"
    }
   ],
   "source": [
    "%%HTML\n",
    "<style>\n",
    "    body {\n",
    "        --vscode-font-family: \"ComicSansMS\"\n",
    "    }\n",
    "</style>"
   ]
  },
  {
   "cell_type": "markdown",
   "id": "127a4519",
   "metadata": {},
   "source": [
    "## LDO Analysis for C/ID"
   ]
  },
  {
   "cell_type": "code",
   "execution_count": 25,
   "id": "800d0985",
   "metadata": {},
   "outputs": [],
   "source": [
    "import numpy as np"
   ]
  },
  {
   "cell_type": "code",
   "execution_count": 26,
   "id": "23dc024a",
   "metadata": {},
   "outputs": [],
   "source": [
    "## Design requirements\n",
    "kT = 1.38e-23 * 300 # Boltzmann constant times temperature in Kelvin\n",
    "Gamma = 2/3\n",
    "PSRR_dB = -60\n",
    "V_ctrl = 0.9\n",
    "V_dd = 1.8\n",
    "V_out = 1.2\n",
    "f_bw = 1e6\n",
    "I_load = 1e-3\n",
    "PM_target = 60 # degrees\n",
    "Noise_target = 250e-6 # Integrated noise target"
   ]
  },
  {
   "cell_type": "code",
   "execution_count": 27,
   "id": "883c1c21",
   "metadata": {},
   "outputs": [
    {
     "name": "stdout",
     "output_type": "stream",
     "text": [
      "Target Gain of the Amplifier in feedback:  1333.3333333333333\n",
      "Target Gain of the Amplifier in feedback (dB):  62.498774732166\n"
     ]
    }
   ],
   "source": [
    "## Determining Gain requirements of the Amplifier in feedback\n",
    "\n",
    "Amp_gain_target = (10**(-1*PSRR_dB/20)) * (V_out / V_ctrl)\n",
    "Amp_gain_target_dB = 20 * np.log10(Amp_gain_target)\n",
    "print(\"Target Gain of the Amplifier in feedback: \", Amp_gain_target)\n",
    "print(\"Target Gain of the Amplifier in feedback (dB): \", Amp_gain_target_dB)"
   ]
  },
  {
   "cell_type": "code",
   "execution_count": 28,
   "id": "33fe5cf7",
   "metadata": {},
   "outputs": [
    {
     "name": "stdout",
     "output_type": "stream",
     "text": [
      "Effective Resistance seen by the load capacitance:  106103.29539459689\n",
      "Total Current flowing through the lPMOS:  1.0113097335529233 mA\n",
      "Overhead of the LDO:  0.011309733552923194 mA\n",
      "overhead percentage of the LDO:  1.1183253930712158 %\n"
     ]
    }
   ],
   "source": [
    "## Bandwidth estimation\n",
    "\n",
    "C_L = 1.5e-12 # Load capacitance - starting value can change later if noise requirements are not met\n",
    "\n",
    "## Assuming dominant pole comes from the main circuit\n",
    "R_eff = 1/(f_bw * 2 * np.pi * C_L)\n",
    "print(\"Effective Resistance seen by the load capacitance: \", R_eff)\n",
    "\n",
    "I_total = (V_out / R_eff) + I_load\n",
    "print(\"Total Current flowing through the lPMOS: \", I_total*1e3, \"mA\")\n",
    "\n",
    "print(\"Overhead of the LDO: \", (I_total - I_load)*1e3, \"mA\")\n",
    "print(\"overhead percentage of the LDO: \", ((I_total - I_load) / I_total) * 100, \"%\")"
   ]
  },
  {
   "cell_type": "code",
   "execution_count": 29,
   "id": "34599e68",
   "metadata": {},
   "outputs": [
    {
     "name": "stdout",
     "output_type": "stream",
     "text": [
      "Bandwidth factor due to PM requirements:  2.0 x\n",
      "Target Bandwidth of the Amplifier:  2.0 MHz\n",
      "Gain-Bandwidth Product of the Amplifier:  2.6666666666666665 GHz\n"
     ]
    }
   ],
   "source": [
    "## Amplifier bandwidth estimation\n",
    "factor = np.tan(PM_target * np.pi / 180) # Converting PM to radians\n",
    "factor = np.ceil(factor)\n",
    "print(\"Bandwidth factor due to PM requirements: \", factor,\"x\")\n",
    "Amp_bw = f_bw * factor # Assuming 10 times the bandwidth of the system\n",
    "\n",
    "print(\"Target Bandwidth of the Amplifier: \", Amp_bw*1e-6, \"MHz\")\n",
    "\n",
    "GBW_Amp = Amp_gain_target * Amp_bw\n",
    "print(\"Gain-Bandwidth Product of the Amplifier: \", GBW_Amp*1e-9, \"GHz\")"
   ]
  },
  {
   "cell_type": "code",
   "execution_count": 30,
   "id": "81603da1",
   "metadata": {},
   "outputs": [
    {
     "name": "stdout",
     "output_type": "stream",
     "text": [
      "Power Spectral Density target:  6.25e-14 V^2/Hz\n",
      "Target output referred noise contribution from Amp:  176.7766952966369 uV\n",
      "Target input referred noise contribution from Amp:  0.13258252147247768 uV\n",
      "R_eff noise contribution:  93.73021315815207 uV\n",
      "PMOS noise target:  149.8821108115554 uV\n",
      "Target gm of the pass transistor:  0.024099693510322186 mS\n",
      "kgm target of the pass transistor:  0.023830180518143916\n"
     ]
    }
   ],
   "source": [
    "## Noise estimation\n",
    "Noise_bandwidth = 5*f_bw # Assuming a 2nd order system\n",
    "PSD_target = Noise_target**2 / (f_bw) # Assuming uniform distribution of noise over the bandwidth\n",
    "print(\"Power Spectral Density target: \", PSD_target, \"V^2/Hz\")\n",
    "\n",
    "## Assume equal noise contribution from amp and non-amp\n",
    "V_noise_amp = Noise_target / np.sqrt(2)\n",
    "V_noise_LDO = Noise_target / np.sqrt(2)\n",
    "\n",
    "V_noise_amp_input = V_noise_amp / (Amp_gain_target)\n",
    "\n",
    "print(\"Target output referred noise contribution from Amp: \", V_noise_amp*1e6, \"uV\")\n",
    "print(\"Target input referred noise contribution from Amp: \", V_noise_amp_input*1e6, \"uV\")\n",
    "\n",
    "V_noise_Reff = np.sqrt((4*kT*R_eff)*Noise_bandwidth)\n",
    "print(\"R_eff noise contribution: \", V_noise_Reff*1e6, \"uV\")\n",
    "\n",
    "V_noise_PMOS_target = np.sqrt((V_noise_LDO**2) - (V_noise_Reff**2))\n",
    "print(\"PMOS noise target: \", V_noise_PMOS_target*1e6, \"uV\")\n",
    "PSD_PMOS_target = V_noise_PMOS_target**2 / Noise_bandwidth\n",
    "gm_PMOS_target = PSD_PMOS_target/(4*kT*(R_eff**2))\n",
    "print(\"Target gm of the pass transistor: \", gm_PMOS_target*1e3, \"mS\")\n",
    "\n",
    "gm_ID_target = gm_PMOS_target / (I_total)\n",
    "print(\"kgm target of the pass transistor: \", gm_ID_target)"
   ]
  },
  {
   "cell_type": "code",
   "execution_count": 31,
   "id": "900cd5b4",
   "metadata": {},
   "outputs": [
    {
     "name": "stdout",
     "output_type": "stream",
     "text": [
      "\n",
      "\n",
      "Summary of the Amplifier requirements:\n",
      "Gain:  1333.3333333333333  ( 62.498774732166 dB )\n",
      "Input referred noise:  0.13258252147247768 uV\n",
      "Bandwidth:  2.0 MHz\n"
     ]
    }
   ],
   "source": [
    "## Amplifier requirements\n",
    "print(\"\\n\\nSummary of the Amplifier requirements:\")\n",
    "print(\"Gain: \", Amp_gain_target, \" (\", Amp_gain_target_dB, \"dB )\")\n",
    "print(\"Input referred noise: \", V_noise_amp_input*1e6, \"uV\")\n",
    "print(\"Bandwidth: \", Amp_bw*1e-6, \"MHz\")\n"
   ]
  },
  {
   "cell_type": "code",
   "execution_count": 32,
   "id": "9861c5b5",
   "metadata": {},
   "outputs": [
    {
     "name": "stdout",
     "output_type": "stream",
     "text": [
      "Minimum gm requirement of the amplifier for the given bandwidth:  1.8849555921538759 mS\n"
     ]
    }
   ],
   "source": [
    "## gm requirements estimation based on bandwidth for a single stage amp\n",
    "\n",
    "Cgs_pmos = 100e-12\n",
    "C_par_amp = 50e-12\n",
    "\n",
    "C_Load_1 = Cgs_pmos + C_par_amp\n",
    "\n",
    "gm_target_bw =  (2 * np.pi * Amp_bw * C_Load_1)\n",
    "print(\"Minimum gm requirement of the amplifier for the given bandwidth: \", gm_target_bw*1e3, \"mS\")"
   ]
  },
  {
   "cell_type": "code",
   "execution_count": 33,
   "id": "324678bf",
   "metadata": {},
   "outputs": [
    {
     "name": "stdout",
     "output_type": "stream",
     "text": [
      "Minimum gm requirement of the amplifier for the given noise target:  0.003532800000000001 mS\n"
     ]
    }
   ],
   "source": [
    "## gm requirements estimation based on noise requirements for a single stage amp\n",
    "\n",
    "Noise_bandwidth_amp = 5*Amp_bw\n",
    "\n",
    "PSD_target_amp = (V_noise_amp**2) / Noise_bandwidth_amp\n",
    "\n",
    "gm_target_noise = 4*kT*Gamma / PSD_target_amp\n",
    "\n",
    "print(\"Minimum gm requirement of the amplifier for the given noise target: \", gm_target_noise*1e3, \"mS\")"
   ]
  },
  {
   "cell_type": "code",
   "execution_count": 34,
   "id": "7533703e",
   "metadata": {},
   "outputs": [
    {
     "name": "stdout",
     "output_type": "stream",
     "text": [
      "Minimum gm requirement of the amplifier for the given design:  1.8849555921538759 mS\n"
     ]
    }
   ],
   "source": [
    "## gm requirements for design\n",
    "gm_target = max(gm_target_bw, gm_target_noise)\n",
    "print(\"Minimum gm requirement of the amplifier for the given design: \", gm_target*1e3, \"mS\")"
   ]
  },
  {
   "cell_type": "markdown",
   "id": "8e77c43d",
   "metadata": {},
   "source": [
    "## Updated estimate om Sep 06 2025"
   ]
  },
  {
   "cell_type": "code",
   "execution_count": 35,
   "id": "6f6416b1",
   "metadata": {},
   "outputs": [
    {
     "name": "stdout",
     "output_type": "stream",
     "text": [
      "Achieved Bandwidth with R_L_eff 290.00 Ohms and C_load_eff 100.4 pF: 5.47 MHz\n",
      "Capacitance scaling factor to achieve target BW 1.0 MHz: 5.466x\n"
     ]
    }
   ],
   "source": [
    "C_load_eff = 100.4e-12 # Effective load capacitance including parasitics from previous analysis\n",
    "\n",
    "R_L_eff = 290 # Effective load resistance including pass transistor rds from previous analysis\n",
    "\n",
    "## Bandwidth target and Reff estimate\n",
    "BW_target = 1e6  # 2MHz\n",
    "\n",
    "f_bw = 1/(2 * np.pi * R_L_eff * C_load_eff)\n",
    "print(f\"Achieved Bandwidth with R_L_eff {R_L_eff:.2f} Ohms and C_load_eff {C_load_eff*1e12:.1f} pF: {f_bw*1e-6:.2f} MHz\")\n",
    "\n",
    "C_scale = f_bw / BW_target\n",
    "print(f\"Capacitance scaling factor to achieve target BW {BW_target*1e-6:.1f} MHz: {C_scale:.3f}x\")\n"
   ]
  },
  {
   "cell_type": "markdown",
   "id": "5ff0776d",
   "metadata": {},
   "source": [
    "# Reestimating pole requriements for the design on Sep 06 2025"
   ]
  },
  {
   "cell_type": "code",
   "execution_count": 36,
   "id": "bd2862b8",
   "metadata": {},
   "outputs": [
    {
     "name": "stdout",
     "output_type": "stream",
     "text": [
      "Unity Gain Frequency (f_u) of the Amplifier for BW target 1.0 MHz and Gain 1000 (60dB): 1000.00 MHz\n",
      "Required location of the 2nd pole (f_p2) for PM target 60 degrees: 1732.05 MHz\n",
      "Required location of the 3rd pole (f_p3) for stability: 3464.10 MHz\n"
     ]
    }
   ],
   "source": [
    "f_bw = 1e6\n",
    "Ao = 1000 # 60dB\n",
    "PM_target = 60 # degrees\n",
    "\n",
    "f_u = f_bw * Ao\n",
    "print(f\"Unity Gain Frequency (f_u) of the Amplifier for BW target {f_bw*1e-6:.1f} MHz and Gain {Ao} (60dB): {f_u*1e-6:.2f} MHz\")\n",
    "\n",
    "f_p2 = f_u*np.tan(np.radians(PM_target))\n",
    "print(f\"Required location of the 2nd pole (f_p2) for PM target {PM_target} degrees: {f_p2*1e-6:.2f} MHz\")\n",
    "\n",
    "f_p3 = f_p2 * 2\n",
    "print(f\"Required location of the 3rd pole (f_p3) for stability: {f_p3*1e-6:.2f} MHz\")\n"
   ]
  },
  {
   "cell_type": "code",
   "execution_count": 37,
   "id": "64f152a9",
   "metadata": {},
   "outputs": [
    {
     "name": "stdout",
     "output_type": "stream",
     "text": [
      "Effective Resistance (R_eff) seen by the load capacitance 11.4 pF for f_p3 3464.10 MHz: 4.03 Ohms\n"
     ]
    }
   ],
   "source": [
    "## Estimating circuit paramters for f_p3 for a source follower stage\n",
    "C_load = 11.4e-12\n",
    "R_eff = 1/(2 * np.pi * f_p3 * C_load)\n",
    "print(f\"Effective Resistance (R_eff) seen by the load capacitance {C_load*1e12:.1f} pF for f_p3 {f_p3*1e-6:.2f} MHz: {R_eff:.2f} Ohms\")"
   ]
  },
  {
   "cell_type": "markdown",
   "id": "faeafc37",
   "metadata": {},
   "source": [
    "## LDO High level Optimization strategy\n",
    "1. Bandwidth\n",
    "2. Power budget\n",
    "3. PSRR\n",
    "4. Slewing "
   ]
  },
  {
   "cell_type": "code",
   "execution_count": 38,
   "id": "832215c5",
   "metadata": {},
   "outputs": [],
   "source": [
    "## Amplifer design parameters based on pass transistor design targets\n",
    "C_load = 11.4e-12 # Comes from the pass transistor design\n",
    "f_bw = 1e6\n",
    "k = 3/4 # 0.9V ctrl voltage and 1.2V LDO output voltage\n",
    "I_load = 10e-3 # LDO load current through the pass transistor\n",
    "Av_pass = 25 # Gain of the pass transistor stage"
   ]
  },
  {
   "cell_type": "code",
   "execution_count": 39,
   "id": "98daf5ad",
   "metadata": {},
   "outputs": [
    {
     "name": "stdout",
     "output_type": "stream",
     "text": [
      "Amplifier Gain (Av_amp) requirement for 1.0 mA budget and 60 dB PSRR: 53.33 V/V\n"
     ]
    }
   ],
   "source": [
    "## 1st case, 10% of I_load and 60 dB PSRR\n",
    "PSRR_target_dB = -60\n",
    "PSRR_target = 10**(PSRR_target_dB/20)\n",
    "I_budget = (10/100) * I_load\n",
    "Av_amp = (10**(-PSRR_target_dB/20)) * (1/(k*Av_pass))\n",
    "print(f\"Amplifier Gain (Av_amp) requirement for {I_budget*1e3:.1f} mA budget and 60 dB PSRR: {Av_amp:.2f} V/V\")"
   ]
  },
  {
   "cell_type": "code",
   "execution_count": 40,
   "id": "650303c0",
   "metadata": {},
   "outputs": [
    {
     "name": "stdout",
     "output_type": "stream",
     "text": [
      "Unity Gain Frequency (f_u) of the Amplifier for BW target 1.0 MHz and PSRR target -60 dB: 1000.00 MHz\n",
      "Required location of the 2nd pole (f_p2) for PM target 60 degrees: 1732.05 MHz\n",
      "Required location of the 3rd pole (f_p3) for stability: 3464.10 MHz\n"
     ]
    }
   ],
   "source": [
    "## Pole requirements for stability\n",
    "f_u = (1/PSRR_target)*f_bw\n",
    "f_p2 = f_u * np.tan(np.radians(PM_target))\n",
    "f_p3 = f_p2 * 2\n",
    "\n",
    "print(f\"Unity Gain Frequency (f_u) of the Amplifier for BW target {f_bw*1e-6:.1f} MHz and PSRR target {PSRR_target_dB} dB: {f_u*1e-6:.2f} MHz\")\n",
    "print(f\"Required location of the 2nd pole (f_p2) for PM target {PM_target} degrees: {f_p2*1e-6:.2f} MHz\")\n",
    "print(f\"Required location of the 3rd pole (f_p3) for stability: {f_p3*1e-6:.2f} MHz\")"
   ]
  },
  {
   "cell_type": "code",
   "execution_count": 41,
   "id": "4c09c2b7",
   "metadata": {},
   "outputs": [],
   "source": [
    "## Assuming first stage dominant pole and second stage of amp is a source follower\n",
    "Av_2 = 1 # Gain of the 2nd stage of the amplifier\n",
    "Av_1 = Av_amp / Av_2"
   ]
  },
  {
   "cell_type": "code",
   "execution_count": 42,
   "id": "dbf3e821",
   "metadata": {},
   "outputs": [
    {
     "name": "stdout",
     "output_type": "stream",
     "text": [
      "Gain-Bandwidth Product of stage 1 (GBW_stage1) with Av_1 53.33 and f_p2 1732.05 MHz: 92.38 GHz\n",
      "Gain-Bandwidth Product of stage 2 (GBW_stage2) with Av_2 1.00 and f_p3 3464.10 MHz: 3.46 GHz\n"
     ]
    }
   ],
   "source": [
    "GBW_stage1 = Av_1 * f_p2\n",
    "GBW_stage2 = Av_2 * f_p3\n",
    "\n",
    "print(f\"Gain-Bandwidth Product of stage 1 (GBW_stage1) with Av_1 {Av_1:.2f} and f_p2 {f_p2*1e-6:.2f} MHz: {GBW_stage1*1e-9:.2f} GHz\")\n",
    "print(f\"Gain-Bandwidth Product of stage 2 (GBW_stage2) with Av_2 {Av_2:.2f} and f_p3 {f_p3*1e-6:.2f} MHz: {GBW_stage2*1e-9:.2f} GHz\")"
   ]
  },
  {
   "cell_type": "code",
   "execution_count": 43,
   "id": "767b38aa",
   "metadata": {},
   "outputs": [
    {
     "name": "stdout",
     "output_type": "stream",
     "text": [
      "Required gm of the 2nd stage of the amplifier for GBW_stage2 3.46 GHz and C_load 11.4 pF: 248.13 mS\n",
      "Required current of the 2nd stage of the amplifier for kgm_max 25 : 9.93 mA\n"
     ]
    }
   ],
   "source": [
    "## Checking second stage GBW feasibility\n",
    "kgm_max = 25 # Arbitrary max value for 180nm technology\n",
    "gm_req = 2 * np.pi * C_load * GBW_stage2 \n",
    "I_req = gm_req / kgm_max\n",
    "print(f\"Required gm of the 2nd stage of the amplifier for GBW_stage2 {GBW_stage2*1e-9:.2f} GHz and C_load {C_load*1e12:.1f} pF: {gm_req*1e3:.2f} mS\")\n",
    "print(f\"Required current of the 2nd stage of the amplifier for kgm_max {kgm_max} : {I_req*1e3:.2f} mA\")"
   ]
  },
  {
   "cell_type": "code",
   "execution_count": 44,
   "id": "27a14768",
   "metadata": {},
   "outputs": [],
   "source": [
    "## Converting this into a function for varying PSRR and I_budget just for the second stage\n",
    "def analyze_second_stage(PSRR_target_dB, I_budget):\n",
    "    PSRR_target = 10**(PSRR_target_dB/20)\n",
    "    f_u = (1/PSRR_target)*f_bw\n",
    "    f_p2 = f_u * np.tan(np.radians(PM_target))\n",
    "    f_p3 = f_p2 * 2\n",
    "\n",
    "    GBW_stage2 = Av_2 * f_p3\n",
    "\n",
    "    kgm_max = 25 # Arbitrary max value for 180nm technology\n",
    "    gm_req = 2 * np.pi * C_load * GBW_stage2\n",
    "    I_req = gm_req / kgm_max\n",
    "    # print(f\"Required gm of the 2nd stage of the amplifier for GBW_stage2 {GBW_stage2*1e-9:.2f} GHz and C_load {C_load*1e12:.1f} pF: {gm_req*1e3:.2f} mS\")\n",
    "    # print(f\"Required current of the 2nd stage of the amplifier for kgm_max {kgm_max} : {I_req*1e3:.2f} mA while having I_budget {I_budget*1e3:.1f} mA and PSRR_target {PSRR_target_dB} dB\")\n",
    "    return I_req\n",
    "\n",
    "I_req_2 = analyze_second_stage(-35, (5/100)*I_load)"
   ]
  },
  {
   "cell_type": "code",
   "execution_count": 45,
   "id": "195f9c4a",
   "metadata": {},
   "outputs": [
    {
     "name": "stdout",
     "output_type": "stream",
     "text": [
      "Closest I_req_2 to I_budget: 0.4974 mA at PSRR = -34 dB\n"
     ]
    },
    {
     "data": {
      "image/png": "[encoded data removed]",
      "text/plain": [
       "<Figure size 800x500 with 1 Axes>"
      ]
     },
     "metadata": {},
     "output_type": "display_data"
    }
   ],
   "source": [
    "import matplotlib.pyplot as plt\n",
    "\n",
    "PSRR_targets_dB = np.arange(-70, -19, 1)\n",
    "I_budget = 0.05 * I_load\n",
    "I_req_2_list = []\n",
    "\n",
    "for psrr_db in PSRR_targets_dB:\n",
    "    I_req_2_list.append(analyze_second_stage(psrr_db, I_budget))\n",
    "\n",
    "\n",
    "I_req_2_arr = np.array(I_req_2_list)\n",
    "idx_closest = np.argmin(np.abs(I_req_2_arr - I_budget))\n",
    "i_req_closest = I_req_2_arr[idx_closest]\n",
    "psrr_closest = PSRR_targets_dB[idx_closest]\n",
    "print(f\"Closest I_req_2 to I_budget: {i_req_closest*1e3:.4f} mA at PSRR = {psrr_closest} dB\")\n",
    "\n",
    "\n",
    "\n",
    "plt.figure(figsize=(8,5))\n",
    "plt.plot(PSRR_targets_dB, np.array(I_req_2_list)*1e3, marker='o')\n",
    "plt.hlines(I_budget*1e3, PSRR_targets_dB[0], PSRR_targets_dB[-1], color='r', linestyle='--', label='I_budget (5% of I_load)')\n",
    "plt.axvline(psrr_closest, color='g', linestyle='--', label=f'Closest PSRR ({psrr_closest} dB)')\n",
    "plt.annotate(f'Closest\\n{psrr_closest} dB,\\n{(i_req_closest*1e3):.3f} mA',\n",
    "             xy=(psrr_closest, i_req_closest*1e3),\n",
    "             xytext=(psrr_closest+2, i_req_closest*1e3+2),\n",
    "             arrowprops=dict(facecolor='black', arrowstyle='->'),\n",
    "             fontsize=10, color='g')\n",
    "plt.legend()\n",
    "plt.xlabel('PSRR Target (dB)')\n",
    "plt.ylabel('I_req_2 (mA)')\n",
    "plt.title('I_req_2 vs PSRR Target for 5% I_budget')\n",
    "plt.grid(True)\n",
    "plt.show()"
   ]
  },
  {
   "cell_type": "markdown",
   "id": "fa0823c5",
   "metadata": {},
   "source": [
    "## Next steps \n",
    "1. Extract Kgm vs kcg data for a source follower by sweeping the current.\n",
    "2. Large signal needs to be captured since V_g of PMOS needs to be close to 1.25V "
   ]
  },
  {
   "cell_type": "code",
   "execution_count": null,
   "id": "00a71f91",
   "metadata": {},
   "outputs": [],
   "source": []
  }
 ],
 "metadata": {
  "kernelspec": {
   "display_name": "Python 3",
   "language": "python",
   "name": "python3"
  },
  "language_info": {
   "codemirror_mode": {
    "name": "ipython",
    "version": 3
   },
   "file_extension": ".py",
   "mimetype": "text/x-python",
   "name": "python",
   "nbconvert_exporter": "python",
   "pygments_lexer": "ipython3",
   "version": "3.11.9"
  }
 },
 "nbformat": 4,
 "nbformat_minor": 5
}
