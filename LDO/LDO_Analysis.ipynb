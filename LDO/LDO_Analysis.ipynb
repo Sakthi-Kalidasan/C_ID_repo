{
 "cells": [
  {
   "cell_type": "markdown",
   "id": "127a4519",
   "metadata": {},
   "source": [
    "## LDO Analysis for C/ID"
   ]
  },
  {
   "cell_type": "code",
   "execution_count": 99,
   "id": "800d0985",
   "metadata": {},
   "outputs": [],
   "source": [
    "import numpy as np"
   ]
  },
  {
   "cell_type": "code",
   "execution_count": 100,
   "id": "23dc024a",
   "metadata": {},
   "outputs": [],
   "source": [
    "## Design requirements\n",
    "kT = 1.38e-23 * 300 # Boltzmann constant times temperature in Kelvin\n",
    "PSRR_dB = -60\n",
    "V_ctrl = 0.9\n",
    "V_dd = 1.8\n",
    "V_out = 1.2\n",
    "f_bw = 1e6\n",
    "I_load = 1e-3\n",
    "PM_target = 60 # degrees\n",
    "Noise_target = 250e-6 # Integrated noise target"
   ]
  },
  {
   "cell_type": "code",
   "execution_count": 101,
   "id": "883c1c21",
   "metadata": {},
   "outputs": [
    {
     "name": "stdout",
     "output_type": "stream",
     "text": [
      "Target Gain of the Amplifier in feedback:  1333.3333333333333\n",
      "Target Gain of the Amplifier in feedback (dB):  62.498774732166\n"
     ]
    }
   ],
   "source": [
    "## Determining Gain requirements of the Amplifier in feedback\n",
    "\n",
    "Amp_gain_target = (10**(-1*PSRR_dB/20)) * (V_out / V_ctrl)\n",
    "Amp_gain_target_dB = 20 * np.log10(Amp_gain_target)\n",
    "print(\"Target Gain of the Amplifier in feedback: \", Amp_gain_target)\n",
    "print(\"Target Gain of the Amplifier in feedback (dB): \", Amp_gain_target_dB)"
   ]
  },
  {
   "cell_type": "code",
   "execution_count": 102,
   "id": "33fe5cf7",
   "metadata": {},
   "outputs": [
    {
     "name": "stdout",
     "output_type": "stream",
     "text": [
      "Effective Resistance seen by the load capacitance:  106103.29539459689\n",
      "Total Current flowing through the lPMOS:  1.0113097335529233 mA\n",
      "Overhead of the LDO:  0.011309733552923194 mA\n",
      "overhead percentage of the LDO:  1.1183253930712158 %\n"
     ]
    }
   ],
   "source": [
    "## Bandwidth estimation\n",
    "\n",
    "C_L = 1.5e-12 # Load capacitance - starting value can change later if noise requirements are not met\n",
    "\n",
    "## Assuming dominant pole comes from the main circuit\n",
    "R_eff = 1/(f_bw * 2 * np.pi * C_L)\n",
    "print(\"Effective Resistance seen by the load capacitance: \", R_eff)\n",
    "\n",
    "I_total = (V_out / R_eff) + I_load\n",
    "print(\"Total Current flowing through the lPMOS: \", I_total*1e3, \"mA\")\n",
    "\n",
    "print(\"Overhead of the LDO: \", (I_total - I_load)*1e3, \"mA\")\n",
    "print(\"overhead percentage of the LDO: \", ((I_total - I_load) / I_total) * 100, \"%\")"
   ]
  },
  {
   "cell_type": "code",
   "execution_count": 103,
   "id": "34599e68",
   "metadata": {},
   "outputs": [
    {
     "name": "stdout",
     "output_type": "stream",
     "text": [
      "Bandwidth factor due to PM requirements:  2.0 x\n",
      "Target Bandwidth of the Amplifier:  2.0 MHz\n",
      "Gain-Bandwidth Product of the Amplifier:  2.6666666666666665 GHz\n"
     ]
    }
   ],
   "source": [
    "## Amplifier bandwidth estimation\n",
    "factor = np.tan(PM_target * np.pi / 180) # Converting PM to radians\n",
    "factor = np.ceil(factor)\n",
    "print(\"Bandwidth factor due to PM requirements: \", factor,\"x\")\n",
    "Amp_bw = f_bw * factor # Assuming 10 times the bandwidth of the system\n",
    "\n",
    "print(\"Target Bandwidth of the Amplifier: \", Amp_bw*1e-6, \"MHz\")\n",
    "\n",
    "GBW_Amp = Amp_gain_target * Amp_bw\n",
    "print(\"Gain-Bandwidth Product of the Amplifier: \", GBW_Amp*1e-9, \"GHz\")"
   ]
  },
  {
   "cell_type": "code",
   "execution_count": 104,
   "id": "81603da1",
   "metadata": {},
   "outputs": [
    {
     "name": "stdout",
     "output_type": "stream",
     "text": [
      "Power Spectral Density target:  6.25e-14 V^2/Hz\n",
      "Target noise contribution from Amp:  176.7766952966369 uV\n",
      "R_eff noise contribution:  93.73021315815207 uV\n",
      "PMOS noise target:  149.8821108115554 uV\n",
      "Target gm of the pass transistor:  0.024099693510322186 mS\n",
      "kgm target of the pass transistor:  0.023830180518143916\n"
     ]
    }
   ],
   "source": [
    "## Noise estimation\n",
    "Noise_bandwidth = 5*f_bw # Assuming a 2nd order system\n",
    "PSD_target = Noise_target**2 / (f_bw) # Assuming uniform distribution of noise over the bandwidth\n",
    "print(\"Power Spectral Density target: \", PSD_target, \"V^2/Hz\")\n",
    "\n",
    "## Assume equal noise contribution from amp and non-amp\n",
    "V_noise_amp = Noise_target / np.sqrt(2)\n",
    "V_noise_LDO = Noise_target / np.sqrt(2)\n",
    "\n",
    "print(\"Target noise contribution from Amp: \", V_noise_amp*1e6, \"uV\")\n",
    "\n",
    "\n",
    "V_noise_Reff = np.sqrt((4*kT*R_eff)*Noise_bandwidth)\n",
    "print(\"R_eff noise contribution: \", V_noise_Reff*1e6, \"uV\")\n",
    "\n",
    "V_noise_PMOS_target = np.sqrt((V_noise_LDO**2) - (V_noise_Reff**2))\n",
    "print(\"PMOS noise target: \", V_noise_PMOS_target*1e6, \"uV\")\n",
    "PSD_PMOS_target = V_noise_PMOS_target**2 / Noise_bandwidth\n",
    "gm_PMOS_target = PSD_PMOS_target/(4*kT*(R_eff**2))\n",
    "print(\"Target gm of the pass transistor: \", gm_PMOS_target*1e3, \"mS\")\n",
    "\n",
    "gm_ID_target = gm_PMOS_target / (I_total)\n",
    "print(\"kgm target of the pass transistor: \", gm_ID_target)"
   ]
  },
  {
   "cell_type": "code",
   "execution_count": 105,
   "id": "900cd5b4",
   "metadata": {},
   "outputs": [
    {
     "name": "stdout",
     "output_type": "stream",
     "text": [
      "\n",
      "\n",
      "Summary of the Amplifier requirements:\n",
      "Gain:  1333.3333333333333  ( 62.498774732166 dB )\n",
      "Output referred noise:  176.7766952966369 uV\n",
      "Bandwidth:  2.0 MHz\n"
     ]
    }
   ],
   "source": [
    "## Amplifier requirements\n",
    "print(\"\\n\\nSummary of the Amplifier requirements:\")\n",
    "print(\"Gain: \", Amp_gain_target, \" (\", Amp_gain_target_dB, \"dB )\")\n",
    "print(\"Output referred noise: \", V_noise_amp*1e6, \"uV\")\n",
    "print(\"Bandwidth: \", Amp_bw*1e-6, \"MHz\")"
   ]
  }
 ],
 "metadata": {
  "kernelspec": {
   "display_name": "Python 3",
   "language": "python",
   "name": "python3"
  },
  "language_info": {
   "codemirror_mode": {
    "name": "ipython",
    "version": 3
   },
   "file_extension": ".py",
   "mimetype": "text/x-python",
   "name": "python",
   "nbconvert_exporter": "python",
   "pygments_lexer": "ipython3",
   "version": "3.11.9"
  }
 },
 "nbformat": 4,
 "nbformat_minor": 5
}
